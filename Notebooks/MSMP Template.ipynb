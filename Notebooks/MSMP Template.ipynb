{
 "cells": [
  {
   "cell_type": "code",
   "execution_count": 2,
   "metadata": {},
   "outputs": [
    {
     "data": {
      "text/plain": [
       "'C:\\\\Users\\\\scuba\\\\PycharmProjects\\\\test'"
      ]
     },
     "execution_count": 2,
     "metadata": {},
     "output_type": "execute_result"
    }
   ],
   "source": [
    "import os\n",
    "os.chdir ('C:\\\\Users\\\\scuba\\\\PycharmProjects\\\\test\\\\')\n",
    "os.getcwd()"
   ]
  },
  {
   "cell_type": "code",
   "execution_count": 3,
   "metadata": {},
   "outputs": [
    {
     "name": "stderr",
     "output_type": "stream",
     "text": [
      "G:\\Anaconda3\\lib\\site-packages\\pandas\\tseries\\index.py:755: PerformanceWarning: Non-vectorized DateOffset being applied to Series or DatetimeIndex\n  PerformanceWarning)\nG:\\Anaconda3\\lib\\site-packages\\pandas\\tseries\\index.py:755: PerformanceWarning: Non-vectorized DateOffset being applied to Series or DatetimeIndex\n  PerformanceWarning)\n"
     ]
    },
    {
     "name": "stderr",
     "output_type": "stream",
     "text": [
      "G:\\Anaconda3\\lib\\site-packages\\pandas\\tseries\\index.py:755: PerformanceWarning: Non-vectorized DateOffset being applied to Series or DatetimeIndex\n  PerformanceWarning)\nG:\\Anaconda3\\lib\\site-packages\\zipline\\data\\bundles\\yahoo_funds.py:204: UserWarning: Overwriting bundle with name '.test'\n  pd.Timestamp('2015-01-01', tz='utc'),\n"
     ]
    },
    {
     "name": "stdout",
     "output_type": "stream",
     "text": [
      "2008-11-30 19:00:00-05:00 WARNING : WARNING : TLT is included in the portfolio\nALL ASSETS = ['SHY', 'AGG', 'IEV', 'TLT', 'SPY', 'EFA', 'EEM', 'IEF', 'MDY', 'QQQ', 'XLV']\n2008-12-01 16:00:00-05:00 INFO : \nPOSITIONS\n"
     ]
    },
    {
     "name": "stdout",
     "output_type": "stream",
     "text": [
      "\n2009-01-02 16:00:00-05:00 INFO : \nPOSITIONS\n"
     ]
    },
    {
     "name": "stdout",
     "output_type": "stream",
     "text": [
      "\n2009-02-02 16:00:00-05:00 INFO : \nPOSITIONS\n"
     ]
    },
    {
     "name": "stdout",
     "output_type": "stream",
     "text": [
      "\n2009-03-02 16:00:00-05:00 INFO : \nPOSITIONS\n"
     ]
    },
    {
     "name": "stdout",
     "output_type": "stream",
     "text": [
      "\n2009-04-01 16:00:00-04:00 INFO : \nPOSITIONS\n"
     ]
    },
    {
     "name": "stdout",
     "output_type": "stream",
     "text": [
      "\n2009-05-01 16:00:00-04:00 INFO : \nPOSITIONS\n"
     ]
    },
    {
     "name": "stdout",
     "output_type": "stream",
     "text": [
      "\n2009-06-01 16:00:00-04:00 INFO : \nPOSITIONS\n"
     ]
    },
    {
     "name": "stdout",
     "output_type": "stream",
     "text": [
      "\n2009-07-01 16:00:00-04:00 INFO : \nPOSITIONS\n"
     ]
    },
    {
     "name": "stdout",
     "output_type": "stream",
     "text": [
      "\n2009-08-03 16:00:00-04:00 INFO : \nPOSITIONS\n"
     ]
    },
    {
     "name": "stdout",
     "output_type": "stream",
     "text": [
      "\n2009-09-01 16:00:00-04:00 INFO : \nPOSITIONS\n"
     ]
    },
    {
     "name": "stdout",
     "output_type": "stream",
     "text": [
      "\n2009-10-01 16:00:00-04:00 INFO : \nPOSITIONS\n"
     ]
    },
    {
     "name": "stdout",
     "output_type": "stream",
     "text": [
      "\n2009-11-02 16:00:00-05:00 INFO : \nPOSITIONS\n"
     ]
    },
    {
     "name": "stdout",
     "output_type": "stream",
     "text": [
      "\n2009-12-01 16:00:00-05:00 INFO : \nPOSITIONS\n"
     ]
    },
    {
     "name": "stdout",
     "output_type": "stream",
     "text": [
      "\n2010-01-04 16:00:00-05:00 INFO : \nPOSITIONS\n"
     ]
    },
    {
     "name": "stdout",
     "output_type": "stream",
     "text": [
      "\n2010-01-27 16:00:00-05:00 INFO : ----------------------------------------------------------------------------"
     ]
    },
    {
     "name": "stdout",
     "output_type": "stream",
     "text": [
      "\n2010-01-27 16:00:00-05:00 DEBUG : 2010-01-27 21:00:00+00:00\n2010-01-27 16:00:00-05:00 DEBUG : REGIME : 1 \n\n2010-01-27 16:00:00-05:00 INFO : REGIME CHANGE - NEW REGIME = 1\n2010-01-27 16:00:00-05:00 DEBUG : ALLOCATIONS FOR rs_p1 : [('MDY', 1.0)]\n\n2010-01-27 16:00:00-05:00 DEBUG : AFTER DOWNSIDE PROTECTION rs_p1 : [('MDY', 1.0)]\n\n2010-01-27 16:00:00-05:00 DEBUG : STRATEGY WEIGHTS = [1.0, 0]\n\n2010-01-27 16:00:00-05:00 DEBUG : ORDERING MDY : 100.0%  QTY = 76\n2010-02-01 16:00:00-05:00 INFO : \nPOSITIONS\n"
     ]
    },
    {
     "name": "stdout",
     "output_type": "stream",
     "text": [
      "\n2010-02-01 16:00:00-05:00 INFO : MDY : QTY = 76, COST BASIS 129.50, CASH =  157.96, POSITIONS VALUE = 9834.32, TOTAL = 9992.28\n2010-02-24 16:00:00-05:00 INFO : ----------------------------------------------------------------------------"
     ]
    },
    {
     "name": "stdout",
     "output_type": "stream",
     "text": [
      "\n2010-02-24 16:00:00-05:00 DEBUG : 2010-02-24 21:00:00+00:00\n2010-02-24 16:00:00-05:00 DEBUG : REGIME : 0 \n\n2010-02-24 16:00:00-05:00 INFO : REGIME CHANGE - NEW REGIME = 0\n2010-02-24 16:00:00-05:00 DEBUG : ALLOCATIONS FOR rs_p1 : [('MDY', 1.0)]\n\n2010-02-24 16:00:00-05:00 DEBUG : AFTER DOWNSIDE PROTECTION rs_p1 : [('MDY', 1.0)]\n\n2010-02-24 16:00:00-05:00 WARNING : TARGET_RISK 0.01 > EFFICIENT FRONTIER MAXIMUM 0.0032454022212214198; SETTING IT TO MAXIMUM"
     ]
    },
    {
     "name": "stdout",
     "output_type": "stream",
     "text": [
      "\n2010-02-24 16:00:00-05:00 DEBUG : ALLOCATIONS FOR rs_p2 : [('AGG', 1.0), ('IEF', 0.0)]\n\n2010-02-24 16:00:00-05:00 DEBUG : AFTER DOWNSIDE PROTECTION rs_p2 : [('AGG', 1.0), ('IEF', 0.0)]\n\n2010-02-24 16:00:00-05:00 DEBUG : STRATEGY WEIGHTS = [1.0, 0]\n\n2010-02-24 16:00:00-05:00 DEBUG : ORDERING IEF : 5.167313573465849e-08%  QTY = 0\n2010-02-24 16:00:00-05:00 DEBUG : ORDERING AGG : 49.999999972180085%  QTY = 49\n2010-02-24 16:00:00-05:00 DEBUG : ORDERING MDY : 50.0%  QTY = 38\n2010-02-24 16:00:00-05:00 DEBUG : ORDERING SHY : -2.3853219399683212e-08%  QTY = 0\n2010-03-01 16:00:00-05:00 INFO : \nPOSITIONS\n"
     ]
    },
    {
     "name": "stdout",
     "output_type": "stream",
     "text": [
      "\n2010-03-01 16:00:00-05:00 INFO : AGG : QTY = 49, COST BASIS 104.71, CASH =  -19.89, POSITIONS VALUE = 5113.64, TOTAL = 10414.09\n2010-03-01 16:00:00-05:00 INFO : MDY : QTY = 39, COST BASIS 129.76, CASH =  -19.89, POSITIONS VALUE = 5320.34, TOTAL = 10414.09\n2010-03-29 16:00:00-04:00 INFO : ----------------------------------------------------------------------------"
     ]
    },
    {
     "name": "stdout",
     "output_type": "stream",
     "text": [
      "\n2010-03-29 16:00:00-04:00 DEBUG : 2010-03-29 20:00:00+00:00\n2010-03-29 16:00:00-04:00 DEBUG : REGIME : 0 \n\n2010-03-29 16:00:00-04:00 INFO : REGIME UNCHANGED. JUST REBALANCE\n\n2010-03-29 16:00:00-04:00 DEBUG : ALLOCATIONS FOR rs_p1 : [('MDY', 1.0)]\n\n2010-03-29 16:00:00-04:00 DEBUG : AFTER DOWNSIDE PROTECTION rs_p1 : [('MDY', 1.0)]\n\n2010-03-29 16:00:00-04:00 WARNING : TARGET_RISK 0.01 > EFFICIENT FRONTIER MAXIMUM 0.002943444567768694; SETTING IT TO MAXIMUM"
     ]
    },
    {
     "name": "stdout",
     "output_type": "stream",
     "text": [
      "\n2010-03-29 16:00:00-04:00 DEBUG : ALLOCATIONS FOR rs_p2 : [('AGG', 1.0), ('IEF', 0.0)]\n\n2010-03-29 16:00:00-04:00 DEBUG : AFTER DOWNSIDE PROTECTION rs_p2 : [('SHY', 1.0)]\n\n2010-03-29 16:00:00-04:00 DEBUG : STRATEGY WEIGHTS = [1.0, 0]\n\n2010-03-29 16:00:00-04:00 DEBUG : ORDERING MDY : 50.0%  QTY = 37\n2010-03-29 16:00:00-04:00 DEBUG : ORDERING SHY : 50.0%  QTY = 64\n2010-04-01 16:00:00-04:00 INFO : \nPOSITIONS\n"
     ]
    },
    {
     "name": "stdout",
     "output_type": "stream",
     "text": [
      "\n2010-04-01 16:00:00-04:00 INFO : SHY : QTY = 64, COST BASIS 83.47, CASH = -134.71, POSITIONS VALUE = 5328.64, TOTAL = 10692.15\n2010-04-01 16:00:00-04:00 INFO : MDY : QTY = 38, COST BASIS 130.02, CASH = -134.71, POSITIONS VALUE = 5498.22, TOTAL = 10692.15\n2010-04-28 16:00:00-04:00 INFO : ----------------------------------------------------------------------------"
     ]
    },
    {
     "name": "stdout",
     "output_type": "stream",
     "text": [
      "\n2010-04-28 16:00:00-04:00 DEBUG : 2010-04-28 20:00:00+00:00\n2010-04-28 16:00:00-04:00 DEBUG : REGIME : 1 \n\n2010-04-28 16:00:00-04:00 INFO : REGIME CHANGE - NEW REGIME = 1\n2010-04-28 16:00:00-04:00 DEBUG : ALLOCATIONS FOR rs_p1 : [('MDY', 1.0)]\n\n2010-04-28 16:00:00-04:00 DEBUG : AFTER DOWNSIDE PROTECTION rs_p1 : [('MDY', 1.0)]\n\n2010-04-28 16:00:00-04:00 DEBUG : STRATEGY WEIGHTS = [1.0, 0]\n\n2010-04-28 16:00:00-04:00 DEBUG : ORDERING MDY : 100.0%  QTY = 72\n2010-05-03 16:00:00-04:00 INFO : \nPOSITIONS\n"
     ]
    },
    {
     "name": "stdout",
     "output_type": "stream",
     "text": [
      "\n2010-05-03 16:00:00-04:00 INFO : MDY : QTY = 72, COST BASIS 140.75, CASH =    2.19, POSITIONS VALUE = 10920.89, TOTAL = 10923.07\n2010-05-26 16:00:00-04:00 INFO : ----------------------------------------------------------------------------"
     ]
    },
    {
     "name": "stdout",
     "output_type": "stream",
     "text": [
      "\n2010-05-26 16:00:00-04:00 DEBUG : 2010-05-26 20:00:00+00:00\n2010-05-26 16:00:00-04:00 DEBUG : REGIME : 0 \n\n2010-05-26 16:00:00-04:00 INFO : REGIME CHANGE - NEW REGIME = 0\n2010-05-26 16:00:00-04:00 DEBUG : ALLOCATIONS FOR rs_p1 : [('MDY', 1.0)]\n\n2010-05-26 16:00:00-04:00 DEBUG : AFTER DOWNSIDE PROTECTION rs_p1 : [('TLT', 1.0)]\n\n2010-05-26 16:00:00-04:00 WARNING : TARGET_RISK 0.01 > EFFICIENT FRONTIER MAXIMUM 0.009663155960439457; SETTING IT TO MAXIMUM"
     ]
    },
    {
     "name": "stdout",
     "output_type": "stream",
     "text": [
      "\n2010-05-26 16:00:00-04:00 DEBUG : ALLOCATIONS FOR rs_p2 : [('TLT', 1.0), ('AGG', 0.0)]\n\n2010-05-26 16:00:00-04:00 DEBUG : AFTER DOWNSIDE PROTECTION rs_p2 : [('TLT', 1.0), ('AGG', 0.0)]\n\n2010-05-26 16:00:00-04:00 DEBUG : STRATEGY WEIGHTS = [1.0, 0]\n\n2010-05-26 16:00:00-04:00 DEBUG : ORDERING IEF : -1.5448655821736905e-08%  QTY = 0\n2010-05-26 16:00:00-04:00 DEBUG : ORDERING TLT : 99.99999999170186%  QTY = 98\n2010-05-26 16:00:00-04:00 DEBUG : ORDERING AGG : 2.374679523630269e-08%  QTY = 0\n2010-06-01 16:00:00-04:00 INFO : \nPOSITIONS\n"
     ]
    },
    {
     "name": "stdout",
     "output_type": "stream",
     "text": [
      "\n2010-06-01 16:00:00-04:00 INFO : TLT : QTY = 98, COST BASIS 96.16, CASH =  665.68, POSITIONS VALUE = 9491.20, TOTAL = 10156.89\n2010-06-28 16:00:00-04:00 INFO : ----------------------------------------------------------------------------"
     ]
    },
    {
     "name": "stdout",
     "output_type": "stream",
     "text": [
      "\n2010-06-28 16:00:00-04:00 DEBUG : 2010-06-28 20:00:00+00:00\n2010-06-28 16:00:00-04:00 DEBUG : REGIME : 0 \n\n2010-06-28 16:00:00-04:00 INFO : REGIME UNCHANGED. JUST REBALANCE\n\n2010-06-28 16:00:00-04:00 DEBUG : ALLOCATIONS FOR rs_p1 : [('EFA', 1.0)]\n\n2010-06-28 16:00:00-04:00 DEBUG : AFTER DOWNSIDE PROTECTION rs_p1 : [('TLT', 1.0)]\n\n2010-06-28 16:00:00-04:00 WARNING : TARGET_RISK 0.01 > EFFICIENT FRONTIER MAXIMUM 0.009324776837818394; SETTING IT TO MAXIMUM"
     ]
    },
    {
     "name": "stdout",
     "output_type": "stream",
     "text": [
      "\n2010-06-28 16:00:00-04:00 DEBUG : ALLOCATIONS FOR rs_p2 : [('TLT', 1.0), ('IEF', 0.0)]\n\n2010-06-28 16:00:00-04:00 DEBUG : AFTER DOWNSIDE PROTECTION rs_p2 : [('TLT', 1.0), ('IEF', 0.0)]\n\n2010-06-28 16:00:00-04:00 DEBUG : STRATEGY WEIGHTS = [1.0, 0]\n\n2010-06-28 16:00:00-04:00 DEBUG : ORDERING IEF : 1.6811422184225347e-10%  QTY = 0\n2010-06-28 16:00:00-04:00 DEBUG : ORDERING TLT : 99.99999999999918%  QTY = 104\n2010-06-28 16:00:00-04:00 DEBUG : ORDERING AGG : -1.6729000361144982e-10%  QTY = 0\n2010-07-01 16:00:00-04:00 INFO : \nPOSITIONS\n"
     ]
    },
    {
     "name": "stdout",
     "output_type": "stream",
     "text": [
      "\n2010-07-01 16:00:00-04:00 INFO : TLT : QTY = 104, COST BASIS 96.54, CASH =   49.26, POSITIONS VALUE = 10566.30, TOTAL = 10615.56\n2010-07-28 16:00:00-04:00 INFO : ----------------------------------------------------------------------------"
     ]
    },
    {
     "name": "stderr",
     "output_type": "stream",
     "text": [
      "G:\\Anaconda3\\lib\\site-packages\\pandas\\tseries\\index.py:755: PerformanceWarning: Non-vectorized DateOffset being applied to Series or DatetimeIndex\n  PerformanceWarning)\nG:\\Anaconda3\\lib\\site-packages\\pandas\\core\\index.py:1154: VisibleDeprecationWarning: using a non-integer number instead of an integer will result in an error in the future\n  return promote(getitem(key))\n"
     ]
    },
    {
     "name": "stdout",
     "output_type": "stream",
     "text": [
      "\n2010-07-28 16:00:00-04:00 DEBUG : 2010-07-28 20:00:00+00:00\n2010-07-28 16:00:00-04:00 DEBUG : REGIME : -1 \n\n2010-07-28 16:00:00-04:00 INFO : REGIME CHANGE - NEW REGIME = -1\n2010-07-28 16:00:00-04:00 DEBUG : ALLOCATIONS FOR eaa_p1 : [('TLT', 0.42999999999999999), ('IEF', 0.42999999999999999), ('MDY', 0.14000000000000001)]\n\n2010-07-28 16:00:00-04:00 INFO : DOWNSIDE PROTECTION FACTOR = 0.14285714285714285\n2010-07-28 16:00:00-04:00 DEBUG : AFTER DOWNSIDE PROTECTION eaa_p1 : [('TLT', 0.51000000000000001), ('IEF', 0.37), ('MDY', 0.12)]\n\n2010-07-28 16:00:00-04:00 DEBUG : STRATEGY WEIGHTS = [0, 1.0]\n\n2010-07-28 16:00:00-04:00 DEBUG : ORDERING IEF : 36.881762073061665%  QTY = 39\n2010-07-28 16:00:00-04:00 DEBUG : ORDERING TLT : 51.463938226569496%  QTY = 53\n2010-07-28 16:00:00-04:00 DEBUG : ORDERING MDY : 11.65429970036883%  QTY = 8\n2010-08-02 16:00:00-04:00 INFO : \nPOSITIONS\n"
     ]
    },
    {
     "name": "stdout",
     "output_type": "stream",
     "text": [
      "\n2010-08-02 16:00:00-04:00 INFO : TLT : QTY = 54, COST BASIS 96.73, CASH =  131.20, POSITIONS VALUE = 5332.50, TOTAL = 10322.64\n2010-08-02 16:00:00-04:00 INFO : IEF : QTY = 39, COST BASIS 95.99, CASH =  131.20, POSITIONS VALUE = 3733.82, TOTAL = 10322.64\n2010-08-02 16:00:00-04:00 INFO : MDY : QTY = 8, COST BASIS 138.95, CASH =  131.20, POSITIONS VALUE = 1125.11, TOTAL = 10322.64\n2010-08-27 16:00:00-04:00 INFO : ----------------------------------------------------------------------------"
     ]
    },
    {
     "name": "stdout",
     "output_type": "stream",
     "text": [
      "\n2010-08-27 16:00:00-04:00 DEBUG : 2010-08-27 20:00:00+00:00\n2010-08-27 16:00:00-04:00 DEBUG : REGIME : -1 \n\n2010-08-27 16:00:00-04:00 INFO : REGIME UNCHANGED. JUST REBALANCE\n\n2010-08-27 16:00:00-04:00 DEBUG : ALLOCATIONS FOR eaa_p1 : [('TLT', 0.53000000000000003), ('EEM', 0.059999999999999998), ('IEF', 0.40999999999999998)]\n\n2010-08-27 16:00:00-04:00 INFO : DOWNSIDE PROTECTION FACTOR = 0.42857142857142855\n2010-08-27 16:00:00-04:00 DEBUG : AFTER DOWNSIDE PROTECTION eaa_p1 : [('TLT', 0.72999999999999998), ('EEM', 0.029999999999999999), ('IEF', 0.23000000000000001)]\n\n2010-08-27 16:00:00-04:00 DEBUG : STRATEGY WEIGHTS = [0, 1.0]\n\n2010-08-27 16:00:00-04:00 DEBUG : ORDERING IEF : 23.29360034545728%  QTY = 25\n2010-08-27 16:00:00-04:00 DEBUG : ORDERING TLT : 73.2565915521981%  QTY = 74\n2010-08-27 16:00:00-04:00 DEBUG : ORDERING EEM : 3.4498081023446203%  QTY = 9\n2010-09-01 16:00:00-04:00 INFO : \nPOSITIONS\n"
     ]
    },
    {
     "name": "stdout",
     "output_type": "stream",
     "text": [
      "\n2010-09-01 16:00:00-04:00 INFO : TLT : QTY = 74, COST BASIS 99.74, CASH =  -80.00, POSITIONS VALUE = 7844.00, TOTAL = 10693.03\n2010-09-01 16:00:00-04:00 INFO : EEM : QTY = 9, COST BASIS 40.93, CASH =  -80.00, POSITIONS VALUE =  373.23, TOTAL = 10693.03\n2010-09-01 16:00:00-04:00 INFO : IEF : QTY = 26, COST BASIS 96.37, CASH =  -80.00, POSITIONS VALUE = 2555.80, TOTAL = 10693.03\n2010-09-28 16:00:00-04:00 INFO : ----------------------------------------------------------------------------"
     ]
    },
    {
     "name": "stdout",
     "output_type": "stream",
     "text": [
      "\n2010-09-28 16:00:00-04:00 DEBUG : 2010-09-28 20:00:00+00:00\n2010-09-28 16:00:00-04:00 DEBUG : REGIME : 0 \n\n2010-09-28 16:00:00-04:00 INFO : REGIME CHANGE - NEW REGIME = 0\n2010-09-28 16:00:00-04:00 DEBUG : ALLOCATIONS FOR rs_p1 : [('EFA', 1.0)]\n\n2010-09-28 16:00:00-04:00 DEBUG : AFTER DOWNSIDE PROTECTION rs_p1 : [('EFA', 1.0)]\n\n2010-09-28 16:00:00-04:00 WARNING : TARGET_RISK 0.01 > EFFICIENT FRONTIER MAXIMUM 0.0043600680677824384; SETTING IT TO MAXIMUM"
     ]
    },
    {
     "name": "stdout",
     "output_type": "stream",
     "text": [
      "\n2010-09-28 16:00:00-04:00 DEBUG : ALLOCATIONS FOR rs_p2 : [('TLT', 0.0), ('IEF', 1.0)]\n\n2010-09-28 16:00:00-04:00 DEBUG : AFTER DOWNSIDE PROTECTION rs_p2 : [('TLT', 0.0), ('IEF', 1.0)]\n\n2010-09-28 16:00:00-04:00 DEBUG : STRATEGY WEIGHTS = [1.0, 0]\n\n2010-09-28 16:00:00-04:00 DEBUG : ORDERING IEF : 49.99999999029601%  QTY = 54\n2010-09-28 16:00:00-04:00 DEBUG : ORDERING TLT : 9.914996613826604e-09%  QTY = 0\n2010-09-28 16:00:00-04:00 DEBUG : ORDERING AGG : -2.1100588579242801e-10%  QTY = 0\n2010-09-28 16:00:00-04:00 DEBUG : ORDERING EFA : 50.0%  QTY = 96\n2010-10-01 16:00:00-04:00 INFO : \nPOSITIONS\n"
     ]
    },
    {
     "name": "stdout",
     "output_type": "stream",
     "text": [
      "\n2010-10-01 16:00:00-04:00 INFO : EFA : QTY = 96, COST BASIS 55.43, CASH =    6.21, POSITIONS VALUE = 5325.12, TOTAL = 10668.15\n2010-10-01 16:00:00-04:00 INFO : IEF : QTY = 54, COST BASIS 97.99, CASH =    6.21, POSITIONS VALUE = 5336.82, TOTAL = 10668.15\n2010-10-27 16:00:00-04:00 INFO : ----------------------------------------------------------------------------"
     ]
    },
    {
     "name": "stdout",
     "output_type": "stream",
     "text": [
      "\n2010-10-27 16:00:00-04:00 DEBUG : 2010-10-27 20:00:00+00:00\n2010-10-27 16:00:00-04:00 DEBUG : REGIME : 1 \n\n2010-10-27 16:00:00-04:00 INFO : REGIME CHANGE - NEW REGIME = 1\n2010-10-27 16:00:00-04:00 DEBUG : ALLOCATIONS FOR rs_p1 : [('MDY', 1.0)]\n\n2010-10-27 16:00:00-04:00 DEBUG : AFTER DOWNSIDE PROTECTION rs_p1 : [('MDY', 1.0)]\n\n2010-10-27 16:00:00-04:00 DEBUG : STRATEGY WEIGHTS = [1.0, 0]\n\n2010-10-27 16:00:00-04:00 DEBUG : ORDERING MDY : 100.0%  QTY = 71\n2010-11-01 16:00:00-04:00 INFO : \nPOSITIONS\n"
     ]
    },
    {
     "name": "stdout",
     "output_type": "stream",
     "text": [
      "\n2010-11-01 16:00:00-04:00 INFO : MDY : QTY = 71, COST BASIS 150.32, CASH =   98.11, POSITIONS VALUE = 10684.79, TOTAL = 10782.90\n2010-11-26 13:00:00-05:00 INFO : ----------------------------------------------------------------------------"
     ]
    },
    {
     "name": "stdout",
     "output_type": "stream",
     "text": [
      "\n2010-11-26 13:00:00-05:00 DEBUG : 2010-11-26 18:00:00+00:00\n2010-11-26 13:00:00-05:00 DEBUG : REGIME : 1 \n\n2010-11-26 13:00:00-05:00 INFO : REGIME UNCHANGED. JUST REBALANCE\n\n2010-11-26 13:00:00-05:00 DEBUG : ALLOCATIONS FOR rs_p1 : [('MDY', 1.0)]\n\n2010-11-26 13:00:00-05:00 DEBUG : AFTER DOWNSIDE PROTECTION rs_p1 : [('MDY', 1.0)]\n\n2010-11-26 13:00:00-05:00 DEBUG : STRATEGY WEIGHTS = [1.0, 0]\n\n2010-12-01 16:00:00-05:00 INFO : \nPOSITIONS\n"
     ]
    },
    {
     "name": "stdout",
     "output_type": "stream",
     "text": [
      "\n2010-12-01 16:00:00-05:00 INFO : MDY : QTY = 71, COST BASIS 150.32, CASH =   98.11, POSITIONS VALUE = 11235.75, TOTAL = 11333.86\n2010-12-29 16:00:00-05:00 INFO : ----------------------------------------------------------------------------"
     ]
    },
    {
     "name": "stdout",
     "output_type": "stream",
     "text": [
      "\n2010-12-29 16:00:00-05:00 DEBUG : 2010-12-29 21:00:00+00:00\n2010-12-29 16:00:00-05:00 DEBUG : REGIME : 1 \n\n2010-12-29 16:00:00-05:00 INFO : REGIME UNCHANGED. JUST REBALANCE\n\n2010-12-29 16:00:00-05:00 DEBUG : ALLOCATIONS FOR rs_p1 : [('MDY', 1.0)]\n\n2010-12-29 16:00:00-05:00 DEBUG : AFTER DOWNSIDE PROTECTION rs_p1 : [('MDY', 1.0)]\n\n2010-12-29 16:00:00-05:00 DEBUG : STRATEGY WEIGHTS = [1.0, 0]\n\n2011-01-03 16:00:00-05:00 INFO : \nPOSITIONS\n"
     ]
    },
    {
     "name": "stdout",
     "output_type": "stream",
     "text": [
      "\n2011-01-03 16:00:00-05:00 INFO : MDY : QTY = 71, COST BASIS 150.32, CASH =   98.11, POSITIONS VALUE = 11835.63, TOTAL = 11933.74\n2011-01-27 16:00:00-05:00 INFO : ----------------------------------------------------------------------------"
     ]
    },
    {
     "name": "stdout",
     "output_type": "stream",
     "text": [
      "\n2011-01-27 16:00:00-05:00 DEBUG : 2011-01-27 21:00:00+00:00\n2011-01-27 16:00:00-05:00 DEBUG : REGIME : 1 \n\n2011-01-27 16:00:00-05:00 INFO : REGIME UNCHANGED. JUST REBALANCE\n\n2011-01-27 16:00:00-05:00 DEBUG : ALLOCATIONS FOR rs_p1 : [('MDY', 1.0)]\n\n2011-01-27 16:00:00-05:00 DEBUG : AFTER DOWNSIDE PROTECTION rs_p1 : [('MDY', 1.0)]\n\n2011-01-27 16:00:00-05:00 DEBUG : STRATEGY WEIGHTS = [1.0, 0]\n\n2011-02-01 16:00:00-05:00 INFO : \nPOSITIONS\n"
     ]
    },
    {
     "name": "stdout",
     "output_type": "stream",
     "text": [
      "\n2011-02-01 16:00:00-05:00 INFO : MDY : QTY = 71, COST BASIS 150.32, CASH =   98.11, POSITIONS VALUE = 12100.46, TOTAL = 12198.57\n2011-02-24 16:00:00-05:00 INFO : ----------------------------------------------------------------------------"
     ]
    },
    {
     "name": "stdout",
     "output_type": "stream",
     "text": [
      "\n2011-02-24 16:00:00-05:00 DEBUG : 2011-02-24 21:00:00+00:00\n2011-02-24 16:00:00-05:00 DEBUG : REGIME : 1 \n\n2011-02-24 16:00:00-05:00 INFO : REGIME UNCHANGED. JUST REBALANCE\n\n2011-02-24 16:00:00-05:00 DEBUG : ALLOCATIONS FOR rs_p1 : [('EFA', 1.0)]\n\n2011-02-24 16:00:00-05:00 DEBUG : AFTER DOWNSIDE PROTECTION rs_p1 : [('EFA', 1.0)]\n\n2011-02-24 16:00:00-05:00 DEBUG : STRATEGY WEIGHTS = [1.0, 0]\n\n2011-02-24 16:00:00-05:00 DEBUG : ORDERING EFA : 100.0%  QTY = 203\n2011-03-01 16:00:00-05:00 INFO : \nPOSITIONS\n"
     ]
    },
    {
     "name": "stdout",
     "output_type": "stream",
     "text": [
      "\n2011-03-01 16:00:00-05:00 INFO : EFA : QTY = 203, COST BASIS 61.05, CASH =  142.83, POSITIONS VALUE = 12319.87, TOTAL = 12462.69\n2011-03-29 16:00:00-04:00 INFO : ----------------------------------------------------------------------------"
     ]
    },
    {
     "name": "stdout",
     "output_type": "stream",
     "text": [
      "\n2011-03-29 16:00:00-04:00 DEBUG : 2011-03-29 20:00:00+00:00\n2011-03-29 16:00:00-04:00 DEBUG : REGIME : 1 \n\n2011-03-29 16:00:00-04:00 INFO : REGIME UNCHANGED. JUST REBALANCE\n\n2011-03-29 16:00:00-04:00 DEBUG : ALLOCATIONS FOR rs_p1 : [('MDY', 1.0)]\n\n2011-03-29 16:00:00-04:00 DEBUG : AFTER DOWNSIDE PROTECTION rs_p1 : [('MDY', 1.0)]\n\n2011-03-29 16:00:00-04:00 DEBUG : STRATEGY WEIGHTS = [1.0, 0]\n\n2011-03-29 16:00:00-04:00 DEBUG : ORDERING MDY : 100.0%  QTY = 69\n2011-04-01 16:00:00-04:00 INFO : \nPOSITIONS\n"
     ]
    },
    {
     "name": "stdout",
     "output_type": "stream",
     "text": [
      "\n2011-04-01 16:00:00-04:00 INFO : MDY : QTY = 69, COST BASIS 178.68, CASH =   58.54, POSITIONS VALUE = 12475.82, TOTAL = 12534.36\n2011-04-27 16:00:00-04:00 INFO : ----------------------------------------------------------------------------"
     ]
    },
    {
     "name": "stdout",
     "output_type": "stream",
     "text": [
      "\n2011-04-27 16:00:00-04:00 DEBUG : 2011-04-27 20:00:00+00:00\n2011-04-27 16:00:00-04:00 DEBUG : REGIME : 1 \n\n2011-04-27 16:00:00-04:00 INFO : REGIME UNCHANGED. JUST REBALANCE\n\n2011-04-27 16:00:00-04:00 DEBUG : ALLOCATIONS FOR rs_p1 : [('MDY', 1.0)]\n\n2011-04-27 16:00:00-04:00 DEBUG : AFTER DOWNSIDE PROTECTION rs_p1 : [('MDY', 1.0)]\n\n2011-04-27 16:00:00-04:00 DEBUG : STRATEGY WEIGHTS = [1.0, 0]\n\n2011-05-02 16:00:00-04:00 INFO : \nPOSITIONS\n"
     ]
    },
    {
     "name": "stdout",
     "output_type": "stream",
     "text": [
      "\n2011-05-02 16:00:00-04:00 INFO : MDY : QTY = 69, COST BASIS 178.68, CASH =   58.54, POSITIONS VALUE = 12624.93, TOTAL = 12683.47\n2011-05-26 16:00:00-04:00 INFO : ----------------------------------------------------------------------------"
     ]
    },
    {
     "name": "stdout",
     "output_type": "stream",
     "text": [
      "\n2011-05-26 16:00:00-04:00 DEBUG : 2011-05-26 20:00:00+00:00\n2011-05-26 16:00:00-04:00 DEBUG : REGIME : 0 \n\n2011-05-26 16:00:00-04:00 INFO : REGIME CHANGE - NEW REGIME = 0\n2011-05-26 16:00:00-04:00 DEBUG : ALLOCATIONS FOR rs_p1 : [('EFA', 1.0)]\n\n2011-05-26 16:00:00-04:00 DEBUG : AFTER DOWNSIDE PROTECTION rs_p1 : [('TLT', 1.0)]\n\n2011-05-26 16:00:00-04:00 WARNING : TARGET_RISK 0.01 > EFFICIENT FRONTIER MAXIMUM 0.00484565126162861; SETTING IT TO MAXIMUM"
     ]
    },
    {
     "name": "stdout",
     "output_type": "stream",
     "text": [
      "\n2011-05-26 16:00:00-04:00 DEBUG : ALLOCATIONS FOR rs_p2 : [('AGG', 0.0), ('IEF', 1.0)]\n\n2011-05-26 16:00:00-04:00 DEBUG : AFTER DOWNSIDE PROTECTION rs_p2 : [('AGG', 0.0), ('IEF', 1.0)]\n\n2011-05-26 16:00:00-04:00 DEBUG : STRATEGY WEIGHTS = [1.0, 0]\n\n2011-05-26 16:00:00-04:00 DEBUG : ORDERING IEF : 49.99999998637944%  QTY = 64\n2011-05-26 16:00:00-04:00 DEBUG : ORDERING TLT : 49.9999999809706%  QTY = 64\n2011-05-26 16:00:00-04:00 DEBUG : ORDERING AGG : 3.264996873012899e-08%  QTY = 0\n2011-05-26 16:00:00-04:00 DEBUG : ORDERING SHY : -1.1102230246251565e-14%  QTY = 0\n2011-06-01 16:00:00-04:00 INFO : \nPOSITIONS\n"
     ]
    },
    {
     "name": "stdout",
     "output_type": "stream",
     "text": [
      "\n2011-06-01 16:00:00-04:00 INFO : TLT : QTY = 64, COST BASIS 96.63, CASH =   94.64, POSITIONS VALUE = 6248.90, TOTAL = 12560.44\n2011-06-01 16:00:00-04:00 INFO : IEF : QTY = 64, COST BASIS 96.60, CASH =   94.64, POSITIONS VALUE = 6216.90, TOTAL = 12560.44\n2011-06-28 16:00:00-04:00 INFO : ----------------------------------------------------------------------------"
     ]
    },
    {
     "name": "stdout",
     "output_type": "stream",
     "text": [
      "\n2011-06-28 16:00:00-04:00 DEBUG : 2011-06-28 20:00:00+00:00\n2011-06-28 16:00:00-04:00 DEBUG : REGIME : 0 \n\n2011-06-28 16:00:00-04:00 INFO : REGIME UNCHANGED. JUST REBALANCE\n\n2011-06-28 16:00:00-04:00 DEBUG : ALLOCATIONS FOR rs_p1 : [('MDY', 1.0)]\n\n2011-06-28 16:00:00-04:00 DEBUG : AFTER DOWNSIDE PROTECTION rs_p1 : [('TLT', 1.0)]\n\n2011-06-28 16:00:00-04:00 WARNING : TARGET_RISK 0.01 > EFFICIENT FRONTIER MAXIMUM 0.004830062643193315; SETTING IT TO MAXIMUM"
     ]
    },
    {
     "name": "stdout",
     "output_type": "stream",
     "text": [
      "\n2011-06-28 16:00:00-04:00 DEBUG : ALLOCATIONS FOR rs_p2 : [('TLT', 0.0), ('IEF', 1.0)]\n\n2011-06-28 16:00:00-04:00 DEBUG : AFTER DOWNSIDE PROTECTION rs_p2 : [('TLT', 0.0), ('IEF', 1.0)]\n\n2011-06-28 16:00:00-04:00 DEBUG : STRATEGY WEIGHTS = [1.0, 0]\n\n2011-06-28 16:00:00-04:00 DEBUG : ORDERING TLT : 50.000000000644576%  QTY = 65\n2011-06-28 16:00:00-04:00 DEBUG : ORDERING AGG : -6.042372885643434e-09%  QTY = 0\n2011-07-01 16:00:00-04:00 INFO : \nPOSITIONS\n"
     ]
    },
    {
     "name": "stdout",
     "output_type": "stream",
     "text": [
      "\n2011-07-01 16:00:00-04:00 INFO : TLT : QTY = 65, COST BASIS 96.74, CASH =   -9.61, POSITIONS VALUE = 6085.89, TOTAL = 12181.17\n2011-07-01 16:00:00-04:00 INFO : IEF : QTY = 64, COST BASIS 96.60, CASH =   -9.61, POSITIONS VALUE = 6104.90, TOTAL = 12181.17\n2011-07-27 16:00:00-04:00 INFO : ----------------------------------------------------------------------------"
     ]
    },
    {
     "name": "stdout",
     "output_type": "stream",
     "text": [
      "\n2011-07-27 16:00:00-04:00 DEBUG : 2011-07-27 20:00:00+00:00\n2011-07-27 16:00:00-04:00 DEBUG : REGIME : 0 \n\n2011-07-27 16:00:00-04:00 INFO : REGIME UNCHANGED. JUST REBALANCE\n\n2011-07-27 16:00:00-04:00 DEBUG : ALLOCATIONS FOR rs_p1 : [('EFA', 1.0)]\n\n2011-07-27 16:00:00-04:00 DEBUG : AFTER DOWNSIDE PROTECTION rs_p1 : [('TLT', 1.0)]\n\n2011-07-27 16:00:00-04:00 WARNING : TARGET_RISK 0.01 > EFFICIENT FRONTIER MAXIMUM 0.004903705197169894; SETTING IT TO MAXIMUM"
     ]
    },
    {
     "name": "stdout",
     "output_type": "stream",
     "text": [
      "\n2011-07-27 16:00:00-04:00 DEBUG : ALLOCATIONS FOR rs_p2 : [('AGG', 0.0), ('IEF', 1.0)]\n\n2011-07-27 16:00:00-04:00 DEBUG : AFTER DOWNSIDE PROTECTION rs_p2 : [('AGG', 0.0), ('IEF', 1.0)]\n\n2011-07-27 16:00:00-04:00 DEBUG : STRATEGY WEIGHTS = [1.0, 0]\n\n2011-07-27 16:00:00-04:00 DEBUG : ORDERING AGG : 5.058020040359146e-08%  QTY = 0\n2011-08-01 16:00:00-04:00 INFO : \nPOSITIONS\n"
     ]
    },
    {
     "name": "stdout",
     "output_type": "stream",
     "text": [
      "\n2011-08-01 16:00:00-04:00 INFO : TLT : QTY = 65, COST BASIS 96.74, CASH =   -9.61, POSITIONS VALUE = 6407.70, TOTAL = 12719.95\n2011-08-01 16:00:00-04:00 INFO : IEF : QTY = 64, COST BASIS 96.60, CASH =   -9.61, POSITIONS VALUE = 6321.86, TOTAL = 12719.95\n2011-08-29 16:00:00-04:00 INFO : ----------------------------------------------------------------------------"
     ]
    },
    {
     "name": "stdout",
     "output_type": "stream",
     "text": [
      "\n2011-08-29 16:00:00-04:00 DEBUG : 2011-08-29 20:00:00+00:00\n2011-08-29 16:00:00-04:00 DEBUG : REGIME : -1 \n\n2011-08-29 16:00:00-04:00 INFO : REGIME CHANGE - NEW REGIME = -1\n2011-08-29 16:00:00-04:00 DEBUG : ALLOCATIONS FOR eaa_p1 : [('TLT', 0.53000000000000003), ('IEF', 0.40999999999999998), ('QQQ', 0.050000000000000003)]\n\n2011-08-29 16:00:00-04:00 INFO : DOWNSIDE PROTECTION FACTOR = 0.42857142857142855\n2011-08-29 16:00:00-04:00 DEBUG : AFTER DOWNSIDE PROTECTION eaa_p1 : [('TLT', 0.72999999999999998), ('IEF', 0.23999999999999999), ('QQQ', 0.029999999999999999)]\n\n2011-08-29 16:00:00-04:00 DEBUG : STRATEGY WEIGHTS = [0, 1.0]\n\n2011-08-29 16:00:00-04:00 DEBUG : ORDERING IEF : 23.596669836371948%  QTY = 31\n2011-08-29 16:00:00-04:00 DEBUG : ORDERING QQQ : 3.116294066804107%  QTY = 7\n2011-08-29 16:00:00-04:00 DEBUG : ORDERING TLT : 73.28703609682394%  QTY = 92\n2011-09-01 16:00:00-04:00 INFO : \nPOSITIONS\n"
     ]
    },
    {
     "name": "stdout",
     "output_type": "stream",
     "text": [
      "\n2011-09-01 16:00:00-04:00 INFO : TLT : QTY = 92, COST BASIS 100.36, CASH =  -51.70, POSITIONS VALUE = 10025.24, TOTAL = 13670.31\n2011-09-01 16:00:00-04:00 INFO : IEF : QTY = 32, COST BASIS 96.91, CASH =  -51.70, POSITIONS VALUE = 3314.85, TOTAL = 13670.31\n2011-09-01 16:00:00-04:00 INFO : QQQ : QTY = 7, COST BASIS 56.40, CASH =  -51.70, POSITIONS VALUE =  381.92, TOTAL = 13670.31\n2011-09-28 16:00:00-04:00 INFO : ----------------------------------------------------------------------------"
     ]
    },
    {
     "name": "stdout",
     "output_type": "stream",
     "text": [
      "\n2011-09-28 16:00:00-04:00 DEBUG : 2011-09-28 20:00:00+00:00\n2011-09-28 16:00:00-04:00 DEBUG : REGIME : -1 \n\n2011-09-28 16:00:00-04:00 INFO : REGIME UNCHANGED. JUST REBALANCE\n\n2011-09-28 16:00:00-04:00 DEBUG : ALLOCATIONS FOR eaa_p1 : [('TLT', 0.62), ('IEF', 0.38)]\n\n2011-09-28 16:00:00-04:00 INFO : DOWNSIDE PROTECTION FACTOR = 0.7142857142857143\n2011-09-28 16:00:00-04:00 DEBUG : AFTER DOWNSIDE PROTECTION eaa_p1 : [('TLT', 0.89000000000000001), ('IEF', 0.11)]\n\n2011-09-28 16:00:00-04:00 DEBUG : STRATEGY WEIGHTS = [0, 1.0]\n\n2011-09-28 16:00:00-04:00 DEBUG : ORDERING IEF : 10.794463018752971%  QTY = 14\n2011-09-28 16:00:00-04:00 DEBUG : ORDERING TLT : 89.20553698124702%  QTY = 110\n2011-10-03 16:00:00-04:00 INFO : \nPOSITIONS\n"
     ]
    },
    {
     "name": "stdout",
     "output_type": "stream",
     "text": [
      "\n2011-10-03 16:00:00-04:00 INFO : TLT : QTY = 110, COST BASIS 103.31, CASH =  -50.67, POSITIONS VALUE = 13618.99, TOTAL = 15155.77\n2011-10-03 16:00:00-04:00 INFO : IEF : QTY = 15, COST BASIS 97.58, CASH =  -50.67, POSITIONS VALUE = 1587.45, TOTAL = 15155.77\n2011-10-27 16:00:00-04:00 INFO : ----------------------------------------------------------------------------"
     ]
    },
    {
     "name": "stdout",
     "output_type": "stream",
     "text": [
      "\n2011-10-27 16:00:00-04:00 DEBUG : 2011-10-27 20:00:00+00:00\n2011-10-27 16:00:00-04:00 DEBUG : REGIME : -1 \n\n2011-10-27 16:00:00-04:00 INFO : REGIME UNCHANGED. JUST REBALANCE\n\n2011-10-27 16:00:00-04:00 DEBUG : ALLOCATIONS FOR eaa_p1 : [('TLT', 0.54000000000000004), ('IEF', 0.32000000000000001), ('QQQ', 0.14000000000000001)]\n\n2011-10-27 16:00:00-04:00 INFO : DOWNSIDE PROTECTION FACTOR = 0.2857142857142857\n2011-10-27 16:00:00-04:00 DEBUG : AFTER DOWNSIDE PROTECTION eaa_p1 : [('TLT', 0.67000000000000004), ('IEF', 0.23000000000000001), ('QQQ', 0.10000000000000001)]\n\n2011-10-27 16:00:00-04:00 DEBUG : STRATEGY WEIGHTS = [0, 1.0]\n\n2011-10-27 16:00:00-04:00 DEBUG : ORDERING IEF : 22.988843228655774%  QTY = 30\n2011-10-27 16:00:00-04:00 DEBUG : ORDERING QQQ : 10.054795745155252%  QTY = 23\n2011-10-27 16:00:00-04:00 DEBUG : ORDERING TLT : 66.95636102618896%  QTY = 82\n2011-11-01 16:00:00-04:00 INFO : \nPOSITIONS\n"
     ]
    },
    {
     "name": "stdout",
     "output_type": "stream",
     "text": [
      "\n2011-11-01 16:00:00-04:00 INFO : TLT : QTY = 83, COST BASIS 103.43, CASH =   41.04, POSITIONS VALUE = 9914.27, TOTAL = 14389.60\n2011-11-01 16:00:00-04:00 INFO : IEF : QTY = 30, COST BASIS 100.19, CASH =   41.04, POSITIONS VALUE = 3136.20, TOTAL = 14389.60\n2011-11-01 16:00:00-04:00 INFO : QQQ : QTY = 23, COST BASIS 59.37, CASH =   41.04, POSITIONS VALUE = 1298.10, TOTAL = 14389.60\n2011-11-28 16:00:00-05:00 INFO : ----------------------------------------------------------------------------"
     ]
    },
    {
     "name": "stdout",
     "output_type": "stream",
     "text": [
      "\n2011-11-28 16:00:00-05:00 DEBUG : 2011-11-28 21:00:00+00:00\n2011-11-28 16:00:00-05:00 DEBUG : REGIME : 0 \n\n2011-11-28 16:00:00-05:00 INFO : REGIME CHANGE - NEW REGIME = 0\n2011-11-28 16:00:00-05:00 DEBUG : ALLOCATIONS FOR rs_p1 : [('MDY', 1.0)]\n\n2011-11-28 16:00:00-05:00 DEBUG : AFTER DOWNSIDE PROTECTION rs_p1 : [('MDY', 1.0)]\n\n2011-11-28 16:00:00-05:00 DEBUG : ALLOCATIONS FOR rs_p2 : [('TLT', 0.75), ('AGG', 0.25), ('IEF', 0.0)]\n"
     ]
    },
    {
     "name": "stdout",
     "output_type": "stream",
     "text": [
      "\n2011-11-28 16:00:00-05:00 DEBUG : AFTER DOWNSIDE PROTECTION rs_p2 : [('TLT', 0.75), ('SHY', 0.25), ('IEF', 0.0)]\n\n2011-11-28 16:00:00-05:00 DEBUG : STRATEGY WEIGHTS = [1.0, 0]\n\n2011-11-28 16:00:00-05:00 DEBUG : ORDERING IEF : 0.009559026032689535%  QTY = 0\n2011-11-28 16:00:00-05:00 DEBUG : ORDERING TLT : 37.37259290311007%  QTY = 44\n2011-11-28 16:00:00-05:00 DEBUG : ORDERING MDY : 50.0%  QTY = 47\n2011-11-28 16:00:00-05:00 DEBUG : ORDERING SHY : 12.61784807085724%  QTY = 21\n2011-12-01 16:00:00-05:00 INFO : \nPOSITIONS\n"
     ]
    },
    {
     "name": "stdout",
     "output_type": "stream",
     "text": [
      "\n2011-12-01 16:00:00-05:00 INFO : SHY : QTY = 21, COST BASIS 85.02, CASH = -156.38, POSITIONS VALUE = 1774.50, TOTAL = 14502.56\n2011-12-01 16:00:00-05:00 INFO : TLT : QTY = 45, COST BASIS 103.66, CASH = -156.38, POSITIONS VALUE = 5265.00, TOTAL = 14502.56\n2011-12-01 16:00:00-05:00 INFO : IEF : QTY = 1, COST BASIS 110.19, CASH = -156.38, POSITIONS VALUE =  103.67, TOTAL = 14502.56\n2011-12-01 16:00:00-05:00 INFO : MDY : QTY = 47, COST BASIS 153.49, CASH = -156.38, POSITIONS VALUE = 7515.77, TOTAL = 14502.56\n2011-12-28 16:00:00-05:00 INFO : ----------------------------------------------------------------------------"
     ]
    },
    {
     "name": "stdout",
     "output_type": "stream",
     "text": [
      "\n2011-12-28 16:00:00-05:00 DEBUG : 2011-12-28 21:00:00+00:00\n2011-12-28 16:00:00-05:00 DEBUG : REGIME : 1 \n\n2011-12-28 16:00:00-05:00 INFO : REGIME CHANGE - NEW REGIME = 1\n2011-12-28 16:00:00-05:00 DEBUG : ALLOCATIONS FOR rs_p1 : [('MDY', 1.0)]\n\n2011-12-28 16:00:00-05:00 DEBUG : AFTER DOWNSIDE PROTECTION rs_p1 : [('TLT', 1.0)]\n\n2011-12-28 16:00:00-05:00 DEBUG : STRATEGY WEIGHTS = [1.0, 0]\n\n2011-12-28 16:00:00-05:00 DEBUG : ORDERING TLT : 100.0%  QTY = 120\n2012-01-03 16:00:00-05:00 INFO : \nPOSITIONS\n"
     ]
    },
    {
     "name": "stdout",
     "output_type": "stream",
     "text": [
      "\n2012-01-03 16:00:00-05:00 INFO : TLT : QTY = 120, COST BASIS 114.49, CASH =  158.85, POSITIONS VALUE = 14331.60, TOTAL = 14490.45\n2012-01-27 16:00:00-05:00 INFO : ----------------------------------------------------------------------------"
     ]
    },
    {
     "name": "stdout",
     "output_type": "stream",
     "text": [
      "\n2012-01-27 16:00:00-05:00 DEBUG : 2012-01-27 21:00:00+00:00\n2012-01-27 16:00:00-05:00 DEBUG : REGIME : 1 \n\n2012-01-27 16:00:00-05:00 INFO : REGIME UNCHANGED. JUST REBALANCE\n\n2012-01-27 16:00:00-05:00 DEBUG : ALLOCATIONS FOR rs_p1 : [('MDY', 1.0)]\n\n2012-01-27 16:00:00-05:00 DEBUG : AFTER DOWNSIDE PROTECTION rs_p1 : [('MDY', 1.0)]\n\n2012-01-27 16:00:00-05:00 DEBUG : STRATEGY WEIGHTS = [1.0, 0]\n\n2012-01-27 16:00:00-05:00 DEBUG : ORDERING MDY : 100.0%  QTY = 83\n2012-02-01 16:00:00-05:00 INFO : \nPOSITIONS\n"
     ]
    },
    {
     "name": "stdout",
     "output_type": "stream",
     "text": [
      "\n2012-02-01 16:00:00-05:00 INFO : MDY : QTY = 83, COST BASIS 170.54, CASH =  330.47, POSITIONS VALUE = 14401.25, TOTAL = 14731.72\n2012-02-27 16:00:00-05:00 INFO : ----------------------------------------------------------------------------"
     ]
    },
    {
     "name": "stdout",
     "output_type": "stream",
     "text": [
      "\n2012-02-27 16:00:00-05:00 DEBUG : 2012-02-27 21:00:00+00:00\n2012-02-27 16:00:00-05:00 DEBUG : REGIME : 1 \n\n2012-02-27 16:00:00-05:00 INFO : REGIME UNCHANGED. JUST REBALANCE\n\n2012-02-27 16:00:00-05:00 DEBUG : ALLOCATIONS FOR rs_p1 : [('MDY', 1.0)]\n\n2012-02-27 16:00:00-05:00 DEBUG : AFTER DOWNSIDE PROTECTION rs_p1 : [('MDY', 1.0)]\n\n2012-02-27 16:00:00-05:00 DEBUG : STRATEGY WEIGHTS = [1.0, 0]\n\n2012-02-27 16:00:00-05:00 DEBUG : ORDERING MDY : 100.0%  QTY = 84\n2012-03-01 16:00:00-05:00 INFO : \nPOSITIONS\n"
     ]
    },
    {
     "name": "stdout",
     "output_type": "stream",
     "text": [
      "\n2012-03-01 16:00:00-05:00 INFO : MDY : QTY = 84, COST BASIS 170.76, CASH =  141.45, POSITIONS VALUE = 15065.40, TOTAL = 15206.85\n2012-03-28 16:00:00-04:00 INFO : ----------------------------------------------------------------------------"
     ]
    },
    {
     "name": "stdout",
     "output_type": "stream",
     "text": [
      "\n2012-03-28 16:00:00-04:00 DEBUG : 2012-03-28 20:00:00+00:00\n2012-03-28 16:00:00-04:00 DEBUG : REGIME : 1 \n\n2012-03-28 16:00:00-04:00 INFO : REGIME UNCHANGED. JUST REBALANCE\n\n2012-03-28 16:00:00-04:00 DEBUG : ALLOCATIONS FOR rs_p1 : [('MDY', 1.0)]\n\n2012-03-28 16:00:00-04:00 DEBUG : AFTER DOWNSIDE PROTECTION rs_p1 : [('MDY', 1.0)]\n\n2012-03-28 16:00:00-04:00 DEBUG : STRATEGY WEIGHTS = [1.0, 0]\n\n2012-04-02 16:00:00-04:00 INFO : \nPOSITIONS\n"
     ]
    },
    {
     "name": "stdout",
     "output_type": "stream",
     "text": [
      "\n2012-04-02 16:00:00-04:00 INFO : MDY : QTY = 84, COST BASIS 170.76, CASH =  141.45, POSITIONS VALUE = 15268.68, TOTAL = 15410.13\n2012-04-26 16:00:00-04:00 INFO : ----------------------------------------------------------------------------"
     ]
    },
    {
     "name": "stdout",
     "output_type": "stream",
     "text": [
      "\n2012-04-26 16:00:00-04:00 DEBUG : 2012-04-26 20:00:00+00:00\n2012-04-26 16:00:00-04:00 DEBUG : REGIME : 1 \n\n2012-04-26 16:00:00-04:00 INFO : REGIME UNCHANGED. JUST REBALANCE\n\n2012-04-26 16:00:00-04:00 DEBUG : ALLOCATIONS FOR rs_p1 : [('MDY', 1.0)]\n\n2012-04-26 16:00:00-04:00 DEBUG : AFTER DOWNSIDE PROTECTION rs_p1 : [('MDY', 1.0)]\n\n2012-04-26 16:00:00-04:00 DEBUG : STRATEGY WEIGHTS = [1.0, 0]\n\n2012-05-01 16:00:00-04:00 INFO : \nPOSITIONS\n"
     ]
    },
    {
     "name": "stdout",
     "output_type": "stream",
     "text": [
      "\n2012-05-01 16:00:00-04:00 INFO : MDY : QTY = 84, COST BASIS 170.76, CASH =  141.45, POSITIONS VALUE = 15215.68, TOTAL = 15357.13\n2012-05-29 16:00:00-04:00 INFO : ----------------------------------------------------------------------------"
     ]
    },
    {
     "name": "stdout",
     "output_type": "stream",
     "text": [
      "\n2012-05-29 16:00:00-04:00 DEBUG : 2012-05-29 20:00:00+00:00\n2012-05-29 16:00:00-04:00 DEBUG : REGIME : 0 \n\n2012-05-29 16:00:00-04:00 INFO : REGIME CHANGE - NEW REGIME = 0\n2012-05-29 16:00:00-04:00 DEBUG : ALLOCATIONS FOR rs_p1 : [('MDY', 1.0)]\n\n2012-05-29 16:00:00-04:00 DEBUG : AFTER DOWNSIDE PROTECTION rs_p1 : [('TLT', 1.0)]\n\n2012-05-29 16:00:00-04:00 DEBUG : ALLOCATIONS FOR rs_p2 : [('TLT', 0.63), ('AGG', 0.0), ('IEF', 0.37)]\n"
     ]
    },
    {
     "name": "stdout",
     "output_type": "stream",
     "text": [
      "\n2012-05-29 16:00:00-04:00 DEBUG : AFTER DOWNSIDE PROTECTION rs_p2 : [('TLT', 0.63), ('AGG', 0.0), ('IEF', 0.37)]\n\n2012-05-29 16:00:00-04:00 DEBUG : STRATEGY WEIGHTS = [1.0, 0]\n\n2012-05-29 16:00:00-04:00 DEBUG : ORDERING IEF : 18.299633596162153%  QTY = 24\n2012-05-29 16:00:00-04:00 DEBUG : ORDERING TLT : 81.70004068770565%  QTY = 97\n2012-05-29 16:00:00-04:00 DEBUG : ORDERING AGG : 0.0003257161321929447%  QTY = 0\n2012-06-01 16:00:00-04:00 INFO : \nPOSITIONS\n"
     ]
    },
    {
     "name": "stdout",
     "output_type": "stream",
     "text": [
      "\n2012-06-01 16:00:00-04:00 INFO : TLT : QTY = 97, COST BASIS 126.24, CASH = -522.37, POSITIONS VALUE = 12644.92, TOTAL = 14745.96\n2012-06-01 16:00:00-04:00 INFO : IEF : QTY = 24, COST BASIS 108.55, CASH = -522.37, POSITIONS VALUE = 2623.42, TOTAL = 14745.96\n2012-06-27 16:00:00-04:00 INFO : ----------------------------------------------------------------------------"
     ]
    },
    {
     "name": "stdout",
     "output_type": "stream",
     "text": [
      "\n2012-06-27 16:00:00-04:00 DEBUG : 2012-06-27 20:00:00+00:00\n2012-06-27 16:00:00-04:00 DEBUG : REGIME : 0 \n\n2012-06-27 16:00:00-04:00 INFO : REGIME UNCHANGED. JUST REBALANCE\n\n2012-06-27 16:00:00-04:00 DEBUG : ALLOCATIONS FOR rs_p1 : [('MDY', 1.0)]\n\n2012-06-27 16:00:00-04:00 DEBUG : AFTER DOWNSIDE PROTECTION rs_p1 : [('TLT', 1.0)]\n\n2012-06-27 16:00:00-04:00 DEBUG : ALLOCATIONS FOR rs_p2 : [('TLT', 0.63), ('AGG', 0.01), ('IEF', 0.35999999999999999)]\n"
     ]
    },
    {
     "name": "stdout",
     "output_type": "stream",
     "text": [
      "\n2012-06-27 16:00:00-04:00 DEBUG : AFTER DOWNSIDE PROTECTION rs_p2 : [('TLT', 0.63), ('AGG', 0.01), ('IEF', 0.35999999999999999)]\n\n2012-06-27 16:00:00-04:00 DEBUG : STRATEGY WEIGHTS = [1.0, 0]\n\n2012-06-27 16:00:00-04:00 DEBUG : ORDERING TLT : 81.57635509644211%  QTY = 92\n2012-06-27 16:00:00-04:00 DEBUG : ORDERING AGG : 0.42091772376917497%  QTY = 0\n2012-07-02 16:00:00-04:00 INFO : \nPOSITIONS\n"
     ]
    },
    {
     "name": "stdout",
     "output_type": "stream",
     "text": [
      "\n2012-07-02 16:00:00-04:00 INFO : TLT : QTY = 93, COST BASIS 126.35, CASH =  -24.98, POSITIONS VALUE = 11738.46, TOTAL = 14311.94\n2012-07-02 16:00:00-04:00 INFO : IEF : QTY = 24, COST BASIS 108.55, CASH =  -24.98, POSITIONS VALUE = 2598.46, TOTAL = 14311.94\n2012-07-27 16:00:00-04:00 INFO : ----------------------------------------------------------------------------"
     ]
    },
    {
     "name": "stdout",
     "output_type": "stream",
     "text": [
      "\n2012-07-27 16:00:00-04:00 DEBUG : 2012-07-27 20:00:00+00:00\n2012-07-27 16:00:00-04:00 DEBUG : REGIME : 0 \n\n2012-07-27 16:00:00-04:00 INFO : REGIME UNCHANGED. JUST REBALANCE\n\n2012-07-27 16:00:00-04:00 DEBUG : ALLOCATIONS FOR rs_p1 : [('EFA', 1.0)]\n\n2012-07-27 16:00:00-04:00 DEBUG : AFTER DOWNSIDE PROTECTION rs_p1 : [('EFA', 1.0)]\n\n2012-07-27 16:00:00-04:00 DEBUG : ALLOCATIONS FOR rs_p2 : [('TLT', 0.72999999999999998), ('AGG', 0.27000000000000002), ('IEF', 0.0)]\n"
     ]
    },
    {
     "name": "stdout",
     "output_type": "stream",
     "text": [
      "\n2012-07-27 16:00:00-04:00 DEBUG : AFTER DOWNSIDE PROTECTION rs_p2 : [('TLT', 0.72999999999999998), ('AGG', 0.27000000000000002), ('IEF', 0.0)]\n\n2012-07-27 16:00:00-04:00 DEBUG : STRATEGY WEIGHTS = [1.0, 0]\n\n2012-07-27 16:00:00-04:00 DEBUG : ORDERING IEF : 0.09326995422493933%  QTY = 0\n2012-07-27 16:00:00-04:00 DEBUG : ORDERING TLT : 36.34442443491843%  QTY = 41\n2012-07-27 16:00:00-04:00 DEBUG : ORDERING AGG : 13.562305610856626%  QTY = 17\n2012-07-27 16:00:00-04:00 DEBUG : ORDERING EFA : 50.0%  QTY = 144\n2012-08-01 16:00:00-04:00 INFO : \nPOSITIONS\n"
     ]
    },
    {
     "name": "stdout",
     "output_type": "stream",
     "text": [
      "\n2012-08-01 16:00:00-04:00 INFO : AGG : QTY = 17, COST BASIS 113.07, CASH = -111.29, POSITIONS VALUE = 1908.06, TOTAL = 14515.51\n2012-08-01 16:00:00-04:00 INFO : TLT : QTY = 42, COST BASIS 126.59, CASH = -111.29, POSITIONS VALUE = 5408.72, TOTAL = 14515.51\n2012-08-01 16:00:00-04:00 INFO : EFA : QTY = 144, COST BASIS 50.38, CASH = -111.29, POSITIONS VALUE = 7201.30, TOTAL = 14515.51\n2012-08-01 16:00:00-04:00 INFO : IEF : QTY = 1, COST BASIS 118.55, CASH = -111.29, POSITIONS VALUE =  108.72, TOTAL = 14515.51\n2012-08-29 16:00:00-04:00 INFO : ----------------------------------------------------------------------------"
     ]
    },
    {
     "name": "stdout",
     "output_type": "stream",
     "text": [
      "\n2012-08-29 16:00:00-04:00 DEBUG : 2012-08-29 20:00:00+00:00\n2012-08-29 16:00:00-04:00 DEBUG : REGIME : 0 \n\n2012-08-29 16:00:00-04:00 INFO : REGIME UNCHANGED. JUST REBALANCE\n\n2012-08-29 16:00:00-04:00 DEBUG : ALLOCATIONS FOR rs_p1 : [('EFA', 1.0)]\n\n2012-08-29 16:00:00-04:00 DEBUG : AFTER DOWNSIDE PROTECTION rs_p1 : [('EFA', 1.0)]\n\n2012-08-29 16:00:00-04:00 DEBUG : ALLOCATIONS FOR rs_p2 : [('TLT', 0.83999999999999997), ('AGG', 0.16), ('IEF', 0.0)]\n"
     ]
    },
    {
     "name": "stdout",
     "output_type": "stream",
     "text": [
      "\n2012-08-29 16:00:00-04:00 DEBUG : AFTER DOWNSIDE PROTECTION rs_p2 : [('SHY', 0.83999999999999997), ('AGG', 0.16)]\n\n2012-08-29 16:00:00-04:00 DEBUG : STRATEGY WEIGHTS = [1.0, 0]\n\n2012-08-29 16:00:00-04:00 DEBUG : ORDERING AGG : 8.07935305073251%  QTY = 10\n2012-08-29 16:00:00-04:00 DEBUG : ORDERING EFA : 50.0%  QTY = 140\n2012-08-29 16:00:00-04:00 DEBUG : ORDERING SHY : 41.92064694926749%  QTY = 72\n2012-09-04 16:00:00-04:00 INFO : \nPOSITIONS\n"
     ]
    },
    {
     "name": "stdout",
     "output_type": "stream",
     "text": [
      "\n2012-09-04 16:00:00-04:00 INFO : SHY : QTY = 72, COST BASIS 84.60, CASH =  -19.00, POSITIONS VALUE = 6082.56, TOTAL = 14535.92\n2012-09-04 16:00:00-04:00 INFO : AGG : QTY = 11, COST BASIS 113.98, CASH =  -19.00, POSITIONS VALUE = 1233.42, TOTAL = 14535.92\n2012-09-04 16:00:00-04:00 INFO : EFA : QTY = 141, COST BASIS 50.45, CASH =  -19.00, POSITIONS VALUE = 7238.94, TOTAL = 14535.92\n2012-09-26 16:00:00-04:00 INFO : ----------------------------------------------------------------------------"
     ]
    },
    {
     "name": "stdout",
     "output_type": "stream",
     "text": [
      "\n2012-09-26 16:00:00-04:00 DEBUG : 2012-09-26 20:00:00+00:00\n2012-09-26 16:00:00-04:00 DEBUG : REGIME : 1 \n\n2012-09-26 16:00:00-04:00 INFO : REGIME CHANGE - NEW REGIME = 1\n2012-09-26 16:00:00-04:00 DEBUG : ALLOCATIONS FOR rs_p1 : [('EFA', 1.0)]\n\n2012-09-26 16:00:00-04:00 DEBUG : AFTER DOWNSIDE PROTECTION rs_p1 : [('EFA', 1.0)]\n\n2012-09-26 16:00:00-04:00 DEBUG : STRATEGY WEIGHTS = [1.0, 0]\n\n2012-09-26 16:00:00-04:00 DEBUG : ORDERING EFA : 100.0%  QTY = 277\n2012-10-01 16:00:00-04:00 INFO : \nPOSITIONS\n"
     ]
    },
    {
     "name": "stdout",
     "output_type": "stream",
     "text": [
      "\n2012-10-01 16:00:00-04:00 INFO : EFA : QTY = 277, COST BASIS 52.26, CASH =  -86.29, POSITIONS VALUE = 14800.11, TOTAL = 14713.82\n2012-10-25 16:00:00-04:00 INFO : ----------------------------------------------------------------------------"
     ]
    },
    {
     "name": "stdout",
     "output_type": "stream",
     "text": [
      "\n2012-10-25 16:00:00-04:00 DEBUG : 2012-10-25 20:00:00+00:00\n2012-10-25 16:00:00-04:00 DEBUG : REGIME : 1 \n\n2012-10-25 16:00:00-04:00 INFO : REGIME UNCHANGED. JUST REBALANCE\n\n2012-10-25 16:00:00-04:00 DEBUG : ALLOCATIONS FOR rs_p1 : [('EFA', 1.0)]\n\n2012-10-25 16:00:00-04:00 DEBUG : AFTER DOWNSIDE PROTECTION rs_p1 : [('EFA', 1.0)]\n\n2012-10-25 16:00:00-04:00 DEBUG : STRATEGY WEIGHTS = [1.0, 0]\n\n2012-11-01 16:00:00-04:00 INFO : \nPOSITIONS\n"
     ]
    },
    {
     "name": "stdout",
     "output_type": "stream",
     "text": [
      "\n2012-11-01 16:00:00-04:00 INFO : EFA : QTY = 277, COST BASIS 52.26, CASH =  -86.29, POSITIONS VALUE = 15015.89, TOTAL = 14929.61\n2012-11-28 16:00:00-05:00 INFO : ----------------------------------------------------------------------------"
     ]
    },
    {
     "name": "stdout",
     "output_type": "stream",
     "text": [
      "\n2012-11-28 16:00:00-05:00 DEBUG : 2012-11-28 21:00:00+00:00\n2012-11-28 16:00:00-05:00 DEBUG : REGIME : 0 \n\n2012-11-28 16:00:00-05:00 INFO : REGIME CHANGE - NEW REGIME = 0\n2012-11-28 16:00:00-05:00 DEBUG : ALLOCATIONS FOR rs_p1 : [('EFA', 1.0)]\n\n2012-11-28 16:00:00-05:00 DEBUG : AFTER DOWNSIDE PROTECTION rs_p1 : [('EFA', 1.0)]\n\n2012-11-28 16:00:00-05:00 WARNING : TARGET_RISK 0.01 > EFFICIENT FRONTIER MAXIMUM 0.00940134248090586; SETTING IT TO MAXIMUM"
     ]
    },
    {
     "name": "stdout",
     "output_type": "stream",
     "text": [
      "\n2012-11-28 16:00:00-05:00 DEBUG : ALLOCATIONS FOR rs_p2 : [('TLT', 1.0), ('IEF', 0.0)]\n\n2012-11-28 16:00:00-05:00 DEBUG : AFTER DOWNSIDE PROTECTION rs_p2 : [('TLT', 1.0), ('IEF', 0.0)]\n\n2012-11-28 16:00:00-05:00 DEBUG : STRATEGY WEIGHTS = [1.0, 0]\n\n2012-11-28 16:00:00-05:00 DEBUG : ORDERING IEF : 5.6000071256049766e-08%  QTY = 0\n2012-11-28 16:00:00-05:00 DEBUG : ORDERING TLT : 49.999999967892215%  QTY = 60\n2012-11-28 16:00:00-05:00 DEBUG : ORDERING AGG : -2.38922885790205e-08%  QTY = 0\n2012-11-28 16:00:00-05:00 DEBUG : ORDERING EFA : 50.0%  QTY = 137\n2012-12-03 16:00:00-05:00 INFO : \nPOSITIONS\n"
     ]
    },
    {
     "name": "stdout",
     "output_type": "stream",
     "text": [
      "\n2012-12-03 16:00:00-05:00 INFO : TLT : QTY = 60, COST BASIS 125.30, CASH =   30.97, POSITIONS VALUE = 7479.60, TOTAL = 15119.76\n2012-12-03 16:00:00-05:00 INFO : EFA : QTY = 138, COST BASIS 52.34, CASH =   30.97, POSITIONS VALUE = 7609.18, TOTAL = 15119.76\n2012-12-27 16:00:00-05:00 INFO : ----------------------------------------------------------------------------"
     ]
    },
    {
     "name": "stdout",
     "output_type": "stream",
     "text": [
      "\n2012-12-27 16:00:00-05:00 DEBUG : 2012-12-27 21:00:00+00:00\n2012-12-27 16:00:00-05:00 DEBUG : REGIME : 0 \n\n2012-12-27 16:00:00-05:00 INFO : REGIME UNCHANGED. JUST REBALANCE\n\n2012-12-27 16:00:00-05:00 DEBUG : ALLOCATIONS FOR rs_p1 : [('EFA', 1.0)]\n\n2012-12-27 16:00:00-05:00 DEBUG : AFTER DOWNSIDE PROTECTION rs_p1 : [('EFA', 1.0)]\n\n2012-12-27 16:00:00-05:00 WARNING : TARGET_RISK 0.01 > EFFICIENT FRONTIER MAXIMUM 0.008922663039858952; SETTING IT TO MAXIMUM"
     ]
    },
    {
     "name": "stdout",
     "output_type": "stream",
     "text": [
      "\n2012-12-27 16:00:00-05:00 DEBUG : ALLOCATIONS FOR rs_p2 : [('TLT', 1.0), ('IEF', 0.0)]\n\n2012-12-27 16:00:00-05:00 DEBUG : AFTER DOWNSIDE PROTECTION rs_p2 : [('SHY', 1.0)]\n\n2012-12-27 16:00:00-05:00 DEBUG : STRATEGY WEIGHTS = [1.0, 0]\n\n2012-12-27 16:00:00-05:00 DEBUG : ORDERING EFA : 50.0%  QTY = 134\n2012-12-27 16:00:00-05:00 DEBUG : ORDERING SHY : 50.0%  QTY = 90\n2013-01-02 16:00:00-05:00 INFO : \nPOSITIONS\n"
     ]
    },
    {
     "name": "stdout",
     "output_type": "stream",
     "text": [
      "\n2013-01-02 16:00:00-05:00 INFO : SHY : QTY = 90, COST BASIS 84.53, CASH =  -30.17, POSITIONS VALUE = 7596.00, TOTAL = 15360.73\n2013-01-02 16:00:00-05:00 INFO : EFA : QTY = 135, COST BASIS 52.41, CASH =  -30.17, POSITIONS VALUE = 7794.90, TOTAL = 15360.73\n2013-01-29 16:00:00-05:00 INFO : ----------------------------------------------------------------------------"
     ]
    },
    {
     "name": "stdout",
     "output_type": "stream",
     "text": [
      "\n2013-01-29 16:00:00-05:00 DEBUG : 2013-01-29 21:00:00+00:00\n2013-01-29 16:00:00-05:00 DEBUG : REGIME : 0 \n\n2013-01-29 16:00:00-05:00 INFO : REGIME UNCHANGED. JUST REBALANCE\n\n2013-01-29 16:00:00-05:00 DEBUG : ALLOCATIONS FOR rs_p1 : [('MDY', 1.0)]\n\n2013-01-29 16:00:00-05:00 DEBUG : AFTER DOWNSIDE PROTECTION rs_p1 : [('MDY', 1.0)]\n\n2013-01-29 16:00:00-05:00 WARNING : TARGET_RISK 0.01 > EFFICIENT FRONTIER MAXIMUM 0.0015925965602168616; SETTING IT TO MAXIMUM"
     ]
    },
    {
     "name": "stdout",
     "output_type": "stream",
     "text": [
      "\n2013-01-29 16:00:00-05:00 DEBUG : ALLOCATIONS FOR rs_p2 : [('AGG', 1.0), ('IEF', 0.0)]\n\n2013-01-29 16:00:00-05:00 DEBUG : AFTER DOWNSIDE PROTECTION rs_p2 : [('SHY', 1.0)]\n\n2013-01-29 16:00:00-05:00 DEBUG : STRATEGY WEIGHTS = [1.0, 0]\n\n2013-01-29 16:00:00-05:00 DEBUG : ORDERING MDY : 50.0%  QTY = 39\n2013-01-29 16:00:00-05:00 DEBUG : ORDERING SHY : 50.0%  QTY = 92\n2013-02-01 16:00:00-05:00 INFO : \nPOSITIONS\n"
     ]
    },
    {
     "name": "stdout",
     "output_type": "stream",
     "text": [
      "\n2013-02-01 16:00:00-05:00 INFO : SHY : QTY = 92, COST BASIS 84.64, CASH =   40.21, POSITIONS VALUE = 7764.80, TOTAL = 15623.69\n2013-02-01 16:00:00-05:00 INFO : MDY : QTY = 39, COST BASIS 198.28, CASH =   40.21, POSITIONS VALUE = 7818.68, TOTAL = 15623.69\n2013-02-26 16:00:00-05:00 INFO : ----------------------------------------------------------------------------"
     ]
    },
    {
     "name": "stdout",
     "output_type": "stream",
     "text": [
      "\n2013-02-26 16:00:00-05:00 DEBUG : 2013-02-26 21:00:00+00:00\n2013-02-26 16:00:00-05:00 DEBUG : REGIME : 1 \n\n2013-02-26 16:00:00-05:00 INFO : REGIME CHANGE - NEW REGIME = 1\n2013-02-26 16:00:00-05:00 DEBUG : ALLOCATIONS FOR rs_p1 : [('MDY', 1.0)]\n\n2013-02-26 16:00:00-05:00 DEBUG : AFTER DOWNSIDE PROTECTION rs_p1 : [('MDY', 1.0)]\n\n2013-02-26 16:00:00-05:00 DEBUG : STRATEGY WEIGHTS = [1.0, 0]\n\n2013-02-26 16:00:00-05:00 DEBUG : ORDERING MDY : 100.0%  QTY = 78\n2013-03-01 16:00:00-05:00 INFO : \nPOSITIONS\n"
     ]
    },
    {
     "name": "stdout",
     "output_type": "stream",
     "text": [
      "\n2013-03-01 16:00:00-05:00 INFO : MDY : QTY = 78, COST BASIS 199.77, CASH =  -47.55, POSITIONS VALUE = 15617.86, TOTAL = 15570.32\n2013-03-26 16:00:00-04:00 INFO : ----------------------------------------------------------------------------"
     ]
    },
    {
     "name": "stdout",
     "output_type": "stream",
     "text": [
      "\n2013-03-26 16:00:00-04:00 DEBUG : 2013-03-26 20:00:00+00:00\n2013-03-26 16:00:00-04:00 DEBUG : REGIME : 1 \n\n2013-03-26 16:00:00-04:00 INFO : REGIME UNCHANGED. JUST REBALANCE\n\n2013-03-26 16:00:00-04:00 DEBUG : ALLOCATIONS FOR rs_p1 : [('MDY', 1.0)]\n\n2013-03-26 16:00:00-04:00 DEBUG : AFTER DOWNSIDE PROTECTION rs_p1 : [('MDY', 1.0)]\n\n2013-03-26 16:00:00-04:00 DEBUG : STRATEGY WEIGHTS = [1.0, 0]\n\n2013-04-01 16:00:00-04:00 INFO : \nPOSITIONS\n"
     ]
    },
    {
     "name": "stdout",
     "output_type": "stream",
     "text": [
      "\n2013-04-01 16:00:00-04:00 INFO : MDY : QTY = 78, COST BASIS 199.77, CASH =  -47.55, POSITIONS VALUE = 16195.84, TOTAL = 16148.30\n2013-04-26 16:00:00-04:00 INFO : ----------------------------------------------------------------------------"
     ]
    },
    {
     "name": "stdout",
     "output_type": "stream",
     "text": [
      "\n2013-04-26 16:00:00-04:00 DEBUG : 2013-04-26 20:00:00+00:00\n2013-04-26 16:00:00-04:00 DEBUG : REGIME : 1 \n\n2013-04-26 16:00:00-04:00 INFO : REGIME UNCHANGED. JUST REBALANCE\n\n2013-04-26 16:00:00-04:00 DEBUG : ALLOCATIONS FOR rs_p1 : [('EFA', 1.0)]\n\n2013-04-26 16:00:00-04:00 DEBUG : AFTER DOWNSIDE PROTECTION rs_p1 : [('EFA', 1.0)]\n\n2013-04-26 16:00:00-04:00 DEBUG : STRATEGY WEIGHTS = [1.0, 0]\n\n2013-04-26 16:00:00-04:00 DEBUG : ORDERING EFA : 100.0%  QTY = 264\n2013-05-01 16:00:00-04:00 INFO : \nPOSITIONS\n"
     ]
    },
    {
     "name": "stdout",
     "output_type": "stream",
     "text": [
      "\n2013-05-01 16:00:00-04:00 INFO : EFA : QTY = 264, COST BASIS 61.90, CASH =  -81.77, POSITIONS VALUE = 16254.48, TOTAL = 16172.71\n2013-05-29 16:00:00-04:00 INFO : ----------------------------------------------------------------------------"
     ]
    },
    {
     "name": "stdout",
     "output_type": "stream",
     "text": [
      "\n2013-05-29 16:00:00-04:00 DEBUG : 2013-05-29 20:00:00+00:00\n2013-05-29 16:00:00-04:00 DEBUG : REGIME : 1 \n\n2013-05-29 16:00:00-04:00 INFO : REGIME UNCHANGED. JUST REBALANCE\n\n2013-05-29 16:00:00-04:00 DEBUG : ALLOCATIONS FOR rs_p1 : [('EFA', 1.0)]\n\n2013-05-29 16:00:00-04:00 DEBUG : AFTER DOWNSIDE PROTECTION rs_p1 : [('EFA', 1.0)]\n\n2013-05-29 16:00:00-04:00 DEBUG : STRATEGY WEIGHTS = [1.0, 0]\n\n2013-06-03 16:00:00-04:00 INFO : \nPOSITIONS\n"
     ]
    },
    {
     "name": "stdout",
     "output_type": "stream",
     "text": [
      "\n2013-06-03 16:00:00-04:00 INFO : EFA : QTY = 264, COST BASIS 61.90, CASH =  -81.77, POSITIONS VALUE = 15918.94, TOTAL = 15837.17\n2013-06-26 16:00:00-04:00 INFO : ----------------------------------------------------------------------------"
     ]
    },
    {
     "name": "stdout",
     "output_type": "stream",
     "text": [
      "\n2013-06-26 16:00:00-04:00 DEBUG : 2013-06-26 20:00:00+00:00\n2013-06-26 16:00:00-04:00 DEBUG : REGIME : 1 \n\n2013-06-26 16:00:00-04:00 INFO : REGIME UNCHANGED. JUST REBALANCE\n\n2013-06-26 16:00:00-04:00 DEBUG : ALLOCATIONS FOR rs_p1 : [('MDY', 1.0)]\n\n2013-06-26 16:00:00-04:00 DEBUG : AFTER DOWNSIDE PROTECTION rs_p1 : [('TLT', 1)]\n\n2013-06-26 16:00:00-04:00 DEBUG : STRATEGY WEIGHTS = [1.0, 0]\n\n2013-06-26 16:00:00-04:00 DEBUG : ORDERING TLT : 100.0%  QTY = 140\n2013-07-01 16:00:00-04:00 INFO : \nPOSITIONS\n"
     ]
    },
    {
     "name": "stdout",
     "output_type": "stream",
     "text": [
      "\n2013-07-01 16:00:00-04:00 INFO : TLT : QTY = 140, COST BASIS 109.76, CASH = -302.13, POSITIONS VALUE = 15457.40, TOTAL = 15155.27\n2013-07-29 16:00:00-04:00 INFO : ----------------------------------------------------------------------------"
     ]
    },
    {
     "name": "stdout",
     "output_type": "stream",
     "text": [
      "\n2013-07-29 16:00:00-04:00 DEBUG : 2013-07-29 20:00:00+00:00\n2013-07-29 16:00:00-04:00 DEBUG : REGIME : 1 \n\n2013-07-29 16:00:00-04:00 INFO : REGIME UNCHANGED. JUST REBALANCE\n\n2013-07-29 16:00:00-04:00 DEBUG : ALLOCATIONS FOR rs_p1 : [('MDY', 1.0)]\n\n2013-07-29 16:00:00-04:00 DEBUG : AFTER DOWNSIDE PROTECTION rs_p1 : [('MDY', 1.0)]\n\n2013-07-29 16:00:00-04:00 DEBUG : STRATEGY WEIGHTS = [1.0, 0]\n\n2013-07-29 16:00:00-04:00 DEBUG : ORDERING MDY : 100.0%  QTY = 66\n2013-08-01 16:00:00-04:00 INFO : \nPOSITIONS\n"
     ]
    },
    {
     "name": "stdout",
     "output_type": "stream",
     "text": [
      "\n2013-08-01 16:00:00-04:00 INFO : MDY : QTY = 66, COST BASIS 223.28, CASH =  -25.45, POSITIONS VALUE = 15100.80, TOTAL = 15075.35\n2013-08-28 16:00:00-04:00 INFO : ----------------------------------------------------------------------------"
     ]
    },
    {
     "name": "stdout",
     "output_type": "stream",
     "text": [
      "\n2013-08-28 16:00:00-04:00 DEBUG : 2013-08-28 20:00:00+00:00\n2013-08-28 16:00:00-04:00 DEBUG : REGIME : 1 \n\n2013-08-28 16:00:00-04:00 INFO : REGIME UNCHANGED. JUST REBALANCE\n\n2013-08-28 16:00:00-04:00 DEBUG : ALLOCATIONS FOR rs_p1 : [('EFA', 1.0)]\n\n2013-08-28 16:00:00-04:00 DEBUG : AFTER DOWNSIDE PROTECTION rs_p1 : [('EFA', 1.0)]\n\n2013-08-28 16:00:00-04:00 DEBUG : STRATEGY WEIGHTS = [1.0, 0]\n\n2013-08-28 16:00:00-04:00 DEBUG : ORDERING EFA : 100.0%  QTY = 239\n2013-09-03 16:00:00-04:00 INFO : \nPOSITIONS\n"
     ]
    },
    {
     "name": "stdout",
     "output_type": "stream",
     "text": [
      "\n2013-09-03 16:00:00-04:00 INFO : EFA : QTY = 239, COST BASIS 59.95, CASH =   84.72, POSITIONS VALUE = 14414.09, TOTAL = 14498.81\n2013-09-26 16:00:00-04:00 INFO : ----------------------------------------------------------------------------"
     ]
    },
    {
     "name": "stdout",
     "output_type": "stream",
     "text": [
      "\n2013-09-26 16:00:00-04:00 DEBUG : 2013-09-26 20:00:00+00:00\n2013-09-26 16:00:00-04:00 DEBUG : REGIME : 0 \n\n2013-09-26 16:00:00-04:00 INFO : REGIME CHANGE - NEW REGIME = 0\n2013-09-26 16:00:00-04:00 DEBUG : ALLOCATIONS FOR rs_p1 : [('EFA', 1.0)]\n\n2013-09-26 16:00:00-04:00 DEBUG : AFTER DOWNSIDE PROTECTION rs_p1 : [('EFA', 1.0)]\n\n2013-09-26 16:00:00-04:00 WARNING : TARGET_RISK 0.01 > EFFICIENT FRONTIER MAXIMUM 0.002166203095746427; SETTING IT TO MAXIMUM"
     ]
    },
    {
     "name": "stdout",
     "output_type": "stream",
     "text": [
      "\n2013-09-26 16:00:00-04:00 DEBUG : ALLOCATIONS FOR rs_p2 : [('TLT', 0.0), ('AGG', 1.0)]\n\n2013-09-26 16:00:00-04:00 DEBUG : AFTER DOWNSIDE PROTECTION rs_p2 : [('SHY', 0.0), ('AGG', 1.0)]\n\n2013-09-26 16:00:00-04:00 DEBUG : STRATEGY WEIGHTS = [1.0, 0]\n\n2013-09-26 16:00:00-04:00 DEBUG : ORDERING IEF : -8.469447929757574e-08%  QTY = 0\n2013-09-26 16:00:00-04:00 DEBUG : ORDERING AGG : 50.0000000636486%  QTY = 72\n2013-09-26 16:00:00-04:00 DEBUG : ORDERING EFA : 50.0%  QTY = 120\n2013-09-26 16:00:00-04:00 DEBUG : ORDERING SHY : 2.1045881704040426e-08%  QTY = 0\n2013-10-01 16:00:00-04:00 INFO : \nPOSITIONS\n"
     ]
    },
    {
     "name": "stdout",
     "output_type": "stream",
     "text": [
      "\n2013-10-01 16:00:00-04:00 INFO : AGG : QTY = 72, COST BASIS 107.43, CASH =  -77.48, POSITIONS VALUE = 7698.96, TOTAL = 15382.30\n2013-10-01 16:00:00-04:00 INFO : EFA : QTY = 121, COST BASIS 60.03, CASH =  -77.48, POSITIONS VALUE = 7760.82, TOTAL = 15382.30\n2013-10-29 16:00:00-04:00 INFO : ----------------------------------------------------------------------------"
     ]
    },
    {
     "name": "stdout",
     "output_type": "stream",
     "text": [
      "\n2013-10-29 16:00:00-04:00 DEBUG : 2013-10-29 20:00:00+00:00\n2013-10-29 16:00:00-04:00 DEBUG : REGIME : 1 \n\n2013-10-29 16:00:00-04:00 INFO : REGIME CHANGE - NEW REGIME = 1\n2013-10-29 16:00:00-04:00 DEBUG : ALLOCATIONS FOR rs_p1 : [('EFA', 1.0)]\n\n2013-10-29 16:00:00-04:00 DEBUG : AFTER DOWNSIDE PROTECTION rs_p1 : [('EFA', 1.0)]\n\n2013-10-29 16:00:00-04:00 DEBUG : STRATEGY WEIGHTS = [1.0, 0]\n\n2013-10-29 16:00:00-04:00 DEBUG : ORDERING EFA : 100.0%  QTY = 236\n2013-11-01 16:00:00-04:00 INFO : \nPOSITIONS\n"
     ]
    },
    {
     "name": "stdout",
     "output_type": "stream",
     "text": [
      "\n2013-11-01 16:00:00-04:00 INFO : EFA : QTY = 236, COST BASIS 63.11, CASH =   51.78, POSITIONS VALUE = 15471.92, TOTAL = 15523.70\n2013-11-26 16:00:00-05:00 INFO : ----------------------------------------------------------------------------"
     ]
    },
    {
     "name": "stdout",
     "output_type": "stream",
     "text": [
      "\n2013-11-26 16:00:00-05:00 DEBUG : 2013-11-26 21:00:00+00:00\n2013-11-26 16:00:00-05:00 DEBUG : REGIME : 1 \n\n2013-11-26 16:00:00-05:00 INFO : REGIME UNCHANGED. JUST REBALANCE\n\n2013-11-26 16:00:00-05:00 DEBUG : ALLOCATIONS FOR rs_p1 : [('MDY', 1.0)]\n\n2013-11-26 16:00:00-05:00 DEBUG : AFTER DOWNSIDE PROTECTION rs_p1 : [('MDY', 1.0)]\n\n2013-11-26 16:00:00-05:00 DEBUG : STRATEGY WEIGHTS = [1.0, 0]\n\n2013-11-26 16:00:00-05:00 DEBUG : ORDERING MDY : 100.0%  QTY = 65\n2013-12-02 16:00:00-05:00 INFO : \nPOSITIONS\n"
     ]
    },
    {
     "name": "stdout",
     "output_type": "stream",
     "text": [
      "\n2013-12-02 16:00:00-05:00 INFO : MDY : QTY = 65, COST BASIS 238.62, CASH =  133.19, POSITIONS VALUE = 15438.09, TOTAL = 15571.27\n2013-12-27 16:00:00-05:00 INFO : ----------------------------------------------------------------------------"
     ]
    },
    {
     "name": "stdout",
     "output_type": "stream",
     "text": [
      "\n2013-12-27 16:00:00-05:00 DEBUG : 2013-12-27 21:00:00+00:00\n2013-12-27 16:00:00-05:00 DEBUG : REGIME : 1 \n\n2013-12-27 16:00:00-05:00 INFO : REGIME UNCHANGED. JUST REBALANCE\n\n2013-12-27 16:00:00-05:00 DEBUG : ALLOCATIONS FOR rs_p1 : [('MDY', 1.0)]\n\n2013-12-27 16:00:00-05:00 DEBUG : AFTER DOWNSIDE PROTECTION rs_p1 : [('MDY', 1.0)]\n\n2013-12-27 16:00:00-05:00 DEBUG : STRATEGY WEIGHTS = [1.0, 0]\n\n2014-01-02 16:00:00-05:00 INFO : \nPOSITIONS\n"
     ]
    },
    {
     "name": "stdout",
     "output_type": "stream",
     "text": [
      "\n2014-01-02 16:00:00-05:00 INFO : MDY : QTY = 65, COST BASIS 238.62, CASH =  133.19, POSITIONS VALUE = 15690.93, TOTAL = 15824.12\n2014-01-29 16:00:00-05:00 INFO : ----------------------------------------------------------------------------"
     ]
    },
    {
     "name": "stdout",
     "output_type": "stream",
     "text": [
      "\n2014-01-29 16:00:00-05:00 DEBUG : 2014-01-29 21:00:00+00:00\n2014-01-29 16:00:00-05:00 DEBUG : REGIME : 1 \n\n2014-01-29 16:00:00-05:00 INFO : REGIME UNCHANGED. JUST REBALANCE\n\n2014-01-29 16:00:00-05:00 DEBUG : ALLOCATIONS FOR rs_p1 : [('MDY', 1.0)]\n\n2014-01-29 16:00:00-05:00 DEBUG : AFTER DOWNSIDE PROTECTION rs_p1 : [('TLT', 1.0)]\n\n2014-01-29 16:00:00-05:00 DEBUG : STRATEGY WEIGHTS = [1.0, 0]\n\n2014-01-29 16:00:00-05:00 DEBUG : ORDERING TLT : 100.0%  QTY = 143\n2014-02-03 16:00:00-05:00 INFO : \nPOSITIONS\n"
     ]
    },
    {
     "name": "stdout",
     "output_type": "stream",
     "text": [
      "\n2014-02-03 16:00:00-05:00 INFO : TLT : QTY = 143, COST BASIS 107.63, CASH =  316.58, POSITIONS VALUE = 15632.76, TOTAL = 15949.34\n2014-02-26 16:00:00-05:00 INFO : ----------------------------------------------------------------------------"
     ]
    },
    {
     "name": "stdout",
     "output_type": "stream",
     "text": [
      "\n2014-02-26 16:00:00-05:00 DEBUG : 2014-02-26 21:00:00+00:00\n2014-02-26 16:00:00-05:00 DEBUG : REGIME : 1 \n\n2014-02-26 16:00:00-05:00 INFO : REGIME UNCHANGED. JUST REBALANCE\n\n2014-02-26 16:00:00-05:00 DEBUG : ALLOCATIONS FOR rs_p1 : [('MDY', 1.0)]\n\n2014-02-26 16:00:00-05:00 DEBUG : AFTER DOWNSIDE PROTECTION rs_p1 : [('MDY', 1.0)]\n\n2014-02-26 16:00:00-05:00 DEBUG : STRATEGY WEIGHTS = [1.0, 0]\n\n2014-02-26 16:00:00-05:00 DEBUG : ORDERING MDY : 100.0%  QTY = 63\n2014-03-03 16:00:00-05:00 INFO : \nPOSITIONS\n"
     ]
    },
    {
     "name": "stdout",
     "output_type": "stream",
     "text": [
      "\n2014-03-03 16:00:00-05:00 INFO : MDY : QTY = 63, COST BASIS 250.24, CASH =   58.47, POSITIONS VALUE = 15681.90, TOTAL = 15740.37\n2014-03-27 16:00:00-04:00 INFO : ----------------------------------------------------------------------------"
     ]
    },
    {
     "name": "stdout",
     "output_type": "stream",
     "text": [
      "\n2014-03-27 16:00:00-04:00 DEBUG : 2014-03-27 20:00:00+00:00\n2014-03-27 16:00:00-04:00 DEBUG : REGIME : 0 \n\n2014-03-27 16:00:00-04:00 INFO : REGIME CHANGE - NEW REGIME = 0\n2014-03-27 16:00:00-04:00 DEBUG : ALLOCATIONS FOR rs_p1 : [('MDY', 1.0)]\n\n2014-03-27 16:00:00-04:00 DEBUG : AFTER DOWNSIDE PROTECTION rs_p1 : [('MDY', 1.0)]\n\n2014-03-27 16:00:00-04:00 WARNING : TARGET_RISK 0.01 > EFFICIENT FRONTIER MAXIMUM 0.0023406178321558244; SETTING IT TO MAXIMUM"
     ]
    },
    {
     "name": "stdout",
     "output_type": "stream",
     "text": [
      "\n2014-03-27 16:00:00-04:00 DEBUG : ALLOCATIONS FOR rs_p2 : [('AGG', 1.0), ('IEF', 0.0)]\n\n2014-03-27 16:00:00-04:00 DEBUG : AFTER DOWNSIDE PROTECTION rs_p2 : [('SHY', 0.0), ('AGG', 1.0)]\n\n2014-03-27 16:00:00-04:00 DEBUG : STRATEGY WEIGHTS = [1.0, 0]\n\n2014-03-27 16:00:00-04:00 DEBUG : ORDERING TLT : -5.612123597466095e-09%  QTY = 0\n2014-03-27 16:00:00-04:00 DEBUG : ORDERING AGG : 49.99999999904119%  QTY = 71\n2014-03-27 16:00:00-04:00 DEBUG : ORDERING MDY : 50.0%  QTY = 31\n2014-03-27 16:00:00-04:00 DEBUG : ORDERING SHY : 6.570932686855713e-09%  QTY = 0\n2014-04-01 16:00:00-04:00 INFO : \nPOSITIONS\n"
     ]
    },
    {
     "name": "stdout",
     "output_type": "stream",
     "text": [
      "\n2014-04-01 16:00:00-04:00 INFO : AGG : QTY = 71, COST BASIS 108.04, CASH =   30.51, POSITIONS VALUE = 7635.34, TOTAL = 15757.37\n2014-04-01 16:00:00-04:00 INFO : MDY : QTY = 32, COST BASIS 250.55, CASH =   30.51, POSITIONS VALUE = 8091.52, TOTAL = 15757.37\n2014-04-28 16:00:00-04:00 INFO : ----------------------------------------------------------------------------"
     ]
    },
    {
     "name": "stdout",
     "output_type": "stream",
     "text": [
      "\n2014-04-28 16:00:00-04:00 DEBUG : 2014-04-28 20:00:00+00:00\n2014-04-28 16:00:00-04:00 DEBUG : REGIME : 0 \n\n2014-04-28 16:00:00-04:00 INFO : REGIME UNCHANGED. JUST REBALANCE\n\n2014-04-28 16:00:00-04:00 DEBUG : ALLOCATIONS FOR rs_p1 : [('EFA', 1.0)]\n\n2014-04-28 16:00:00-04:00 DEBUG : AFTER DOWNSIDE PROTECTION rs_p1 : [('EFA', 1.0)]\n\n2014-04-28 16:00:00-04:00 WARNING : TARGET_RISK 0.01 > EFFICIENT FRONTIER MAXIMUM 0.0023373238907774155; SETTING IT TO MAXIMUM"
     ]
    },
    {
     "name": "stdout",
     "output_type": "stream",
     "text": [
      "\n2014-04-28 16:00:00-04:00 DEBUG : ALLOCATIONS FOR rs_p2 : [('AGG', 1.0), ('IEF', 0.0)]\n\n2014-04-28 16:00:00-04:00 DEBUG : AFTER DOWNSIDE PROTECTION rs_p2 : [('AGG', 1.0), ('IEF', 0.0)]\n\n2014-04-28 16:00:00-04:00 DEBUG : STRATEGY WEIGHTS = [1.0, 0]\n\n2014-04-28 16:00:00-04:00 DEBUG : ORDERING IEF : 2.9301757547383712e-08%  QTY = 0\n2014-04-28 16:00:00-04:00 DEBUG : ORDERING TLT : -1.7777358975912083e-08%  QTY = 0\n2014-04-28 16:00:00-04:00 DEBUG : ORDERING AGG : 49.9999999884756%  QTY = 71\n2014-04-28 16:00:00-04:00 DEBUG : ORDERING EFA : 50.0%  QTY = 114\n2014-05-01 16:00:00-04:00 INFO : \nPOSITIONS\n"
     ]
    },
    {
     "name": "stdout",
     "output_type": "stream",
     "text": [
      "\n2014-05-01 16:00:00-04:00 INFO : AGG : QTY = 71, COST BASIS 108.04, CASH =   98.54, POSITIONS VALUE = 7707.05, TOTAL = 15615.73\n2014-05-01 16:00:00-04:00 INFO : EFA : QTY = 114, COST BASIS 68.14, CASH =   98.54, POSITIONS VALUE = 7810.14, TOTAL = 15615.73\n2014-05-28 16:00:00-04:00 INFO : ----------------------------------------------------------------------------"
     ]
    },
    {
     "name": "stdout",
     "output_type": "stream",
     "text": [
      "\n2014-05-28 16:00:00-04:00 DEBUG : 2014-05-28 20:00:00+00:00\n2014-05-28 16:00:00-04:00 DEBUG : REGIME : 0 \n\n2014-05-28 16:00:00-04:00 INFO : REGIME UNCHANGED. JUST REBALANCE\n\n2014-05-28 16:00:00-04:00 DEBUG : ALLOCATIONS FOR rs_p1 : [('EFA', 1.0)]\n\n2014-05-28 16:00:00-04:00 DEBUG : AFTER DOWNSIDE PROTECTION rs_p1 : [('EFA', 1.0)]\n\n2014-05-28 16:00:00-04:00 WARNING : TARGET_RISK 0.01 > EFFICIENT FRONTIER MAXIMUM 0.007599487645013715; SETTING IT TO MAXIMUM"
     ]
    },
    {
     "name": "stdout",
     "output_type": "stream",
     "text": [
      "\n2014-05-28 16:00:00-04:00 DEBUG : ALLOCATIONS FOR rs_p2 : [('TLT', 1.0), ('IEF', 0.0)]\n\n2014-05-28 16:00:00-04:00 DEBUG : AFTER DOWNSIDE PROTECTION rs_p2 : [('TLT', 1.0), ('IEF', 0.0)]\n\n2014-05-28 16:00:00-04:00 DEBUG : STRATEGY WEIGHTS = [1.0, 0]\n\n2014-05-28 16:00:00-04:00 DEBUG : ORDERING IEF : 7.164771524813941e-10%  QTY = 0\n2014-05-28 16:00:00-04:00 DEBUG : ORDERING TLT : 50.00000000412551%  QTY = 68\n2014-05-28 16:00:00-04:00 DEBUG : ORDERING AGG : -4.841985884852273e-09%  QTY = 0\n2014-06-02 16:00:00-04:00 INFO : \nPOSITIONS\n"
     ]
    },
    {
     "name": "stdout",
     "output_type": "stream",
     "text": [
      "\n2014-06-02 16:00:00-04:00 INFO : TLT : QTY = 68, COST BASIS 114.30, CASH =   95.81, POSITIONS VALUE = 7681.21, TOTAL = 15705.72\n2014-06-02 16:00:00-04:00 INFO : EFA : QTY = 114, COST BASIS 68.14, CASH =   95.81, POSITIONS VALUE = 7928.70, TOTAL = 15705.72\n2014-06-26 16:00:00-04:00 INFO : ----------------------------------------------------------------------------"
     ]
    },
    {
     "name": "stdout",
     "output_type": "stream",
     "text": [
      "\n2014-06-26 16:00:00-04:00 DEBUG : 2014-06-26 20:00:00+00:00\n2014-06-26 16:00:00-04:00 DEBUG : REGIME : 1 \n\n2014-06-26 16:00:00-04:00 INFO : REGIME CHANGE - NEW REGIME = 1\n2014-06-26 16:00:00-04:00 DEBUG : ALLOCATIONS FOR rs_p1 : [('MDY', 1.0)]\n\n2014-06-26 16:00:00-04:00 DEBUG : AFTER DOWNSIDE PROTECTION rs_p1 : [('MDY', 1.0)]\n\n2014-06-26 16:00:00-04:00 DEBUG : STRATEGY WEIGHTS = [1.0, 0]\n\n2014-06-26 16:00:00-04:00 DEBUG : ORDERING MDY : 100.0%  QTY = 60\n2014-07-01 16:00:00-04:00 INFO : \nPOSITIONS\n"
     ]
    },
    {
     "name": "stdout",
     "output_type": "stream",
     "text": [
      "\n2014-07-01 16:00:00-04:00 INFO : MDY : QTY = 60, COST BASIS 259.62, CASH =  -13.71, POSITIONS VALUE = 15756.00, TOTAL = 15742.29\n2014-07-29 16:00:00-04:00 INFO : ----------------------------------------------------------------------------"
     ]
    },
    {
     "name": "stdout",
     "output_type": "stream",
     "text": [
      "\n2014-07-29 16:00:00-04:00 DEBUG : 2014-07-29 20:00:00+00:00\n2014-07-29 16:00:00-04:00 DEBUG : REGIME : 1 \n\n2014-07-29 16:00:00-04:00 INFO : REGIME UNCHANGED. JUST REBALANCE\n\n2014-07-29 16:00:00-04:00 DEBUG : ALLOCATIONS FOR rs_p1 : [('MDY', 1.0)]\n\n2014-07-29 16:00:00-04:00 DEBUG : AFTER DOWNSIDE PROTECTION rs_p1 : [('TLT', 1.0)]\n\n2014-07-29 16:00:00-04:00 DEBUG : STRATEGY WEIGHTS = [1.0, 0]\n\n2014-07-29 16:00:00-04:00 DEBUG : ORDERING TLT : 100.0%  QTY = 131\n2014-08-01 16:00:00-04:00 INFO : \nPOSITIONS\n"
     ]
    },
    {
     "name": "stdout",
     "output_type": "stream",
     "text": [
      "\n2014-08-01 16:00:00-04:00 INFO : TLT : QTY = 131, COST BASIS 114.40, CASH =  254.31, POSITIONS VALUE = 15007.23, TOTAL = 15261.54\n2014-08-27 16:00:00-04:00 INFO : ----------------------------------------------------------------------------"
     ]
    },
    {
     "name": "stdout",
     "output_type": "stream",
     "text": [
      "\n2014-08-27 16:00:00-04:00 DEBUG : 2014-08-27 20:00:00+00:00\n2014-08-27 16:00:00-04:00 DEBUG : REGIME : 1 \n\n2014-08-27 16:00:00-04:00 INFO : REGIME UNCHANGED. JUST REBALANCE\n\n2014-08-27 16:00:00-04:00 DEBUG : ALLOCATIONS FOR rs_p1 : [('MDY', 1.0)]\n\n2014-08-27 16:00:00-04:00 DEBUG : AFTER DOWNSIDE PROTECTION rs_p1 : [('MDY', 1.0)]\n\n2014-08-27 16:00:00-04:00 DEBUG : STRATEGY WEIGHTS = [1.0, 0]\n\n2014-08-27 16:00:00-04:00 DEBUG : ORDERING MDY : 100.0%  QTY = 60\n2014-09-02 16:00:00-04:00 INFO : \nPOSITIONS\n"
     ]
    },
    {
     "name": "stdout",
     "output_type": "stream",
     "text": [
      "\n2014-09-02 16:00:00-04:00 INFO : MDY : QTY = 60, COST BASIS 260.75, CASH =  184.64, POSITIONS VALUE = 15750.00, TOTAL = 15934.64\n2014-09-26 16:00:00-04:00 INFO : ----------------------------------------------------------------------------"
     ]
    },
    {
     "name": "stdout",
     "output_type": "stream",
     "text": [
      "\n2014-09-26 16:00:00-04:00 DEBUG : 2014-09-26 20:00:00+00:00\n2014-09-26 16:00:00-04:00 DEBUG : REGIME : 1 \n\n2014-09-26 16:00:00-04:00 INFO : REGIME UNCHANGED. JUST REBALANCE\n\n2014-09-26 16:00:00-04:00 DEBUG : ALLOCATIONS FOR rs_p1 : [('MDY', 1.0)]\n\n2014-09-26 16:00:00-04:00 DEBUG : AFTER DOWNSIDE PROTECTION rs_p1 : [('TLT', 1.0)]\n\n2014-09-26 16:00:00-04:00 DEBUG : STRATEGY WEIGHTS = [1.0, 0]\n\n2014-09-26 16:00:00-04:00 DEBUG : ORDERING TLT : 100.0%  QTY = 132\n2014-10-01 16:00:00-04:00 INFO : \nPOSITIONS\n"
     ]
    },
    {
     "name": "stdout",
     "output_type": "stream",
     "text": [
      "\n2014-10-01 16:00:00-04:00 INFO : TLT : QTY = 132, COST BASIS 117.01, CASH = -177.12, POSITIONS VALUE = 15606.36, TOTAL = 15429.24\n2014-10-29 16:00:00-04:00 INFO : ----------------------------------------------------------------------------"
     ]
    },
    {
     "name": "stdout",
     "output_type": "stream",
     "text": [
      "\n2014-10-29 16:00:00-04:00 DEBUG : 2014-10-29 20:00:00+00:00\n2014-10-29 16:00:00-04:00 DEBUG : REGIME : 0 \n\n2014-10-29 16:00:00-04:00 INFO : REGIME CHANGE - NEW REGIME = 0\n2014-10-29 16:00:00-04:00 DEBUG : ALLOCATIONS FOR rs_p1 : [('MDY', 1.0)]\n\n2014-10-29 16:00:00-04:00 DEBUG : AFTER DOWNSIDE PROTECTION rs_p1 : [('TLT', 1.0)]\n\n2014-10-29 16:00:00-04:00 WARNING : TARGET_RISK 0.01 > EFFICIENT FRONTIER MAXIMUM 0.006700817456238713; SETTING IT TO MAXIMUM"
     ]
    },
    {
     "name": "stdout",
     "output_type": "stream",
     "text": [
      "\n2014-10-29 16:00:00-04:00 DEBUG : ALLOCATIONS FOR rs_p2 : [('TLT', 1.0), ('IEF', 0.0)]\n\n2014-10-29 16:00:00-04:00 DEBUG : AFTER DOWNSIDE PROTECTION rs_p2 : [('TLT', 1.0), ('IEF', 0.0)]\n\n2014-10-29 16:00:00-04:00 DEBUG : STRATEGY WEIGHTS = [1.0, 0]\n\n2014-10-29 16:00:00-04:00 DEBUG : ORDERING IEF : 5.641321440402667e-10%  QTY = 0\n2014-10-29 16:00:00-04:00 DEBUG : ORDERING TLT : 99.99999999999085%  QTY = 130\n2014-10-29 16:00:00-04:00 DEBUG : ORDERING AGG : -5.549873962558046e-10%  QTY = 0\n2014-11-03 16:00:00-05:00 INFO : \nPOSITIONS\n"
     ]
    },
    {
     "name": "stdout",
     "output_type": "stream",
     "text": [
      "\n2014-11-03 16:00:00-05:00 INFO : TLT : QTY = 131, COST BASIS 117.08, CASH =  -67.56, POSITIONS VALUE = 15583.63, TOTAL = 15516.07\n2014-11-25 16:00:00-05:00 INFO : ----------------------------------------------------------------------------"
     ]
    },
    {
     "name": "stdout",
     "output_type": "stream",
     "text": [
      "\n2014-11-25 16:00:00-05:00 DEBUG : 2014-11-25 21:00:00+00:00\n2014-11-25 16:00:00-05:00 DEBUG : REGIME : 0 \n\n2014-11-25 16:00:00-05:00 INFO : REGIME UNCHANGED. JUST REBALANCE\n\n2014-11-25 16:00:00-05:00 DEBUG : ALLOCATIONS FOR rs_p1 : [('MDY', 1.0)]\n\n2014-11-25 16:00:00-05:00 DEBUG : AFTER DOWNSIDE PROTECTION rs_p1 : [('MDY', 1.0)]\n\n2014-11-25 16:00:00-05:00 WARNING : TARGET_RISK 0.01 > EFFICIENT FRONTIER MAXIMUM 0.006371826293101708; SETTING IT TO MAXIMUM"
     ]
    },
    {
     "name": "stdout",
     "output_type": "stream",
     "text": [
      "\n2014-11-25 16:00:00-05:00 DEBUG : ALLOCATIONS FOR rs_p2 : [('TLT', 1.0), ('IEF', 0.0)]\n\n2014-11-25 16:00:00-05:00 DEBUG : AFTER DOWNSIDE PROTECTION rs_p2 : [('TLT', 1.0), ('IEF', 0.0)]\n\n2014-11-25 16:00:00-05:00 DEBUG : STRATEGY WEIGHTS = [1.0, 0]\n\n2014-11-25 16:00:00-05:00 DEBUG : ORDERING IEF : 2.279708294027985e-09%  QTY = 0\n2014-11-25 16:00:00-05:00 DEBUG : ORDERING TLT : 49.99999999986351%  QTY = 65\n2014-11-25 16:00:00-05:00 DEBUG : ORDERING AGG : -2.143219510345626e-09%  QTY = 0\n2014-11-25 16:00:00-05:00 DEBUG : ORDERING MDY : 50.0%  QTY = 29\n2014-12-01 16:00:00-05:00 INFO : \nPOSITIONS\n"
     ]
    },
    {
     "name": "stdout",
     "output_type": "stream",
     "text": [
      "\n2014-12-01 16:00:00-05:00 INFO : TLT : QTY = 66, COST BASIS 117.23, CASH =  127.40, POSITIONS VALUE = 8019.00, TOTAL = 15673.06\n2014-12-01 16:00:00-05:00 INFO : MDY : QTY = 29, COST BASIS 265.32, CASH =  127.40, POSITIONS VALUE = 7526.66, TOTAL = 15673.06\n2014-12-29 16:00:00-05:00 INFO : ----------------------------------------------------------------------------"
     ]
    },
    {
     "name": "stdout",
     "output_type": "stream",
     "text": [
      "\n2014-12-29 16:00:00-05:00 DEBUG : 2014-12-29 21:00:00+00:00\n2014-12-29 16:00:00-05:00 DEBUG : REGIME : 1 \n\n2014-12-29 16:00:00-05:00 INFO : REGIME CHANGE - NEW REGIME = 1\n2014-12-29 16:00:00-05:00 DEBUG : ALLOCATIONS FOR rs_p1 : [('MDY', 1.0)]\n\n2014-12-29 16:00:00-05:00 DEBUG : AFTER DOWNSIDE PROTECTION rs_p1 : [('MDY', 1.0)]\n\n2014-12-29 16:00:00-05:00 DEBUG : STRATEGY WEIGHTS = [1.0, 0]\n\n2014-12-29 16:00:00-05:00 DEBUG : ORDERING MDY : 100.0%  QTY = 60\n2015-01-02 16:00:00-05:00 INFO : \nPOSITIONS\n"
     ]
    },
    {
     "name": "stdout",
     "output_type": "stream",
     "text": [
      "\n2015-01-02 16:00:00-05:00 INFO : MDY : QTY = 60, COST BASIS 266.22, CASH =  133.65, POSITIONS VALUE = 15812.94, TOTAL = 15946.59\n2015-01-28 16:00:00-05:00 INFO : ----------------------------------------------------------------------------"
     ]
    },
    {
     "name": "stdout",
     "output_type": "stream",
     "text": [
      "\n2015-01-28 16:00:00-05:00 DEBUG : 2015-01-28 21:00:00+00:00\n2015-01-28 16:00:00-05:00 DEBUG : REGIME : 1 \n\n2015-01-28 16:00:00-05:00 INFO : REGIME UNCHANGED. JUST REBALANCE\n\n2015-01-28 16:00:00-05:00 DEBUG : ALLOCATIONS FOR rs_p1 : [('MDY', 1.0)]\n\n2015-01-28 16:00:00-05:00 DEBUG : AFTER DOWNSIDE PROTECTION rs_p1 : [('TLT', 1.0)]\n\n2015-01-28 16:00:00-05:00 DEBUG : STRATEGY WEIGHTS = [1.0, 0]\n\n2015-01-28 16:00:00-05:00 DEBUG : ORDERING TLT : 100.0%  QTY = 116\n2015-02-02 16:00:00-05:00 INFO : \nPOSITIONS\n"
     ]
    },
    {
     "name": "stdout",
     "output_type": "stream",
     "text": [
      "\n2015-02-02 16:00:00-05:00 INFO : TLT : QTY = 116, COST BASIS 135.96, CASH =  228.85, POSITIONS VALUE = 15947.56, TOTAL = 16176.41\n2015-02-25 16:00:00-05:00 INFO : ----------------------------------------------------------------------------"
     ]
    },
    {
     "name": "stdout",
     "output_type": "stream",
     "text": [
      "\n2015-02-25 16:00:00-05:00 DEBUG : 2015-02-25 21:00:00+00:00\n2015-02-25 16:00:00-05:00 DEBUG : REGIME : 1 \n\n2015-02-25 16:00:00-05:00 INFO : REGIME UNCHANGED. JUST REBALANCE\n\n2015-02-25 16:00:00-05:00 DEBUG : ALLOCATIONS FOR rs_p1 : [('EFA', 1.0)]\n\n2015-02-25 16:00:00-05:00 DEBUG : AFTER DOWNSIDE PROTECTION rs_p1 : [('EFA', 1.0)]\n\n2015-02-25 16:00:00-05:00 DEBUG : STRATEGY WEIGHTS = [1.0, 0]\n\n2015-02-25 16:00:00-05:00 DEBUG : ORDERING EFA : 100.0%  QTY = 235\n2015-03-02 16:00:00-05:00 INFO : \nPOSITIONS\n"
     ]
    },
    {
     "name": "stdout",
     "output_type": "stream",
     "text": [
      "\n2015-03-02 16:00:00-05:00 INFO : EFA : QTY = 235, COST BASIS 65.11, CASH = -182.28, POSITIONS VALUE = 15321.76, TOTAL = 15139.48\n2015-03-27 16:00:00-04:00 INFO : ----------------------------------------------------------------------------"
     ]
    },
    {
     "name": "stdout",
     "output_type": "stream",
     "text": [
      "\n2015-03-27 16:00:00-04:00 DEBUG : 2015-03-27 20:00:00+00:00\n2015-03-27 16:00:00-04:00 DEBUG : REGIME : 0 \n\n2015-03-27 16:00:00-04:00 INFO : REGIME CHANGE - NEW REGIME = 0\n2015-03-27 16:00:00-04:00 DEBUG : ALLOCATIONS FOR rs_p1 : [('EFA', 1.0)]\n\n2015-03-27 16:00:00-04:00 DEBUG : AFTER DOWNSIDE PROTECTION rs_p1 : [('EFA', 1.0)]\n\n2015-03-27 16:00:00-04:00 WARNING : TARGET_RISK 0.01 > EFFICIENT FRONTIER MAXIMUM 0.007919138864407798; SETTING IT TO MAXIMUM"
     ]
    },
    {
     "name": "stdout",
     "output_type": "stream",
     "text": [
      "\n2015-03-27 16:00:00-04:00 DEBUG : ALLOCATIONS FOR rs_p2 : [('TLT', 1.0), ('IEF', 0.0)]\n\n2015-03-27 16:00:00-04:00 DEBUG : AFTER DOWNSIDE PROTECTION rs_p2 : [('SHY', 1.0)]\n\n2015-03-27 16:00:00-04:00 DEBUG : STRATEGY WEIGHTS = [1.0, 0]\n\n2015-03-27 16:00:00-04:00 DEBUG : ORDERING EFA : 50.0%  QTY = 116\n2015-03-27 16:00:00-04:00 DEBUG : ORDERING SHY : 50.0%  QTY = 89\n2015-04-01 16:00:00-04:00 INFO : \nPOSITIONS\n"
     ]
    },
    {
     "name": "stdout",
     "output_type": "stream",
     "text": [
      "\n2015-04-01 16:00:00-04:00 INFO : SHY : QTY = 89, COST BASIS 84.92, CASH =  -59.04, POSITIONS VALUE = 7554.23, TOTAL = 15056.78\n2015-04-01 16:00:00-04:00 INFO : EFA : QTY = 117, COST BASIS 65.20, CASH =  -59.04, POSITIONS VALUE = 7561.59, TOTAL = 15056.78\n2015-04-28 16:00:00-04:00 INFO : ----------------------------------------------------------------------------"
     ]
    },
    {
     "name": "stdout",
     "output_type": "stream",
     "text": [
      "\n2015-04-28 16:00:00-04:00 DEBUG : 2015-04-28 20:00:00+00:00\n2015-04-28 16:00:00-04:00 DEBUG : REGIME : 0 \n\n2015-04-28 16:00:00-04:00 INFO : REGIME UNCHANGED. JUST REBALANCE\n\n2015-04-28 16:00:00-04:00 DEBUG : ALLOCATIONS FOR rs_p1 : [('EFA', 1.0)]\n\n2015-04-28 16:00:00-04:00 DEBUG : AFTER DOWNSIDE PROTECTION rs_p1 : [('EFA', 1.0)]\n\n2015-04-28 16:00:00-04:00 WARNING : TARGET_RISK 0.01 > EFFICIENT FRONTIER MAXIMUM 0.00811850719275742; SETTING IT TO MAXIMUM"
     ]
    },
    {
     "name": "stdout",
     "output_type": "stream",
     "text": [
      "\n2015-04-28 16:00:00-04:00 DEBUG : ALLOCATIONS FOR rs_p2 : [('TLT', 1.0), ('IEF', 0.0)]\n\n2015-04-28 16:00:00-04:00 DEBUG : AFTER DOWNSIDE PROTECTION rs_p2 : [('SHY', 1.0), ('IEF', 0.0)]\n\n2015-04-28 16:00:00-04:00 DEBUG : STRATEGY WEIGHTS = [1.0, 0]\n\n2015-04-28 16:00:00-04:00 DEBUG : ORDERING IEF : 1.2803213277922201e-08%  QTY = 0\n2015-04-28 16:00:00-04:00 DEBUG : ORDERING AGG : -9.757400093132114e-09%  QTY = 0\n2015-04-28 16:00:00-04:00 DEBUG : ORDERING EFA : 50.0%  QTY = 113\n2015-04-28 16:00:00-04:00 DEBUG : ORDERING SHY : 49.99999999695419%  QTY = 90\n2015-05-01 16:00:00-04:00 INFO : \nPOSITIONS\n"
     ]
    },
    {
     "name": "stdout",
     "output_type": "stream",
     "text": [
      "\n2015-05-01 16:00:00-04:00 INFO : SHY : QTY = 90, COST BASIS 85.03, CASH =   37.74, POSITIONS VALUE = 7632.00, TOTAL = 15336.24\n2015-05-01 16:00:00-04:00 INFO : EFA : QTY = 114, COST BASIS 65.28, CASH =   37.74, POSITIONS VALUE = 7666.50, TOTAL = 15336.24\n2015-05-27 16:00:00-04:00 INFO : ----------------------------------------------------------------------------"
     ]
    },
    {
     "name": "stdout",
     "output_type": "stream",
     "text": [
      "\n2015-05-27 16:00:00-04:00 DEBUG : 2015-05-27 20:00:00+00:00\n2015-05-27 16:00:00-04:00 DEBUG : REGIME : 1 \n\n2015-05-27 16:00:00-04:00 INFO : REGIME CHANGE - NEW REGIME = 1\n2015-05-27 16:00:00-04:00 DEBUG : ALLOCATIONS FOR rs_p1 : [('EFA', 1.0)]\n\n2015-05-27 16:00:00-04:00 DEBUG : AFTER DOWNSIDE PROTECTION rs_p1 : [('EFA', 1.0)]\n\n2015-05-27 16:00:00-04:00 DEBUG : STRATEGY WEIGHTS = [1.0, 0]\n\n2015-05-27 16:00:00-04:00 DEBUG : ORDERING EFA : 100.0%  QTY = 227\n2015-06-01 16:00:00-04:00 INFO : \nPOSITIONS\n"
     ]
    },
    {
     "name": "stdout",
     "output_type": "stream",
     "text": [
      "\n2015-06-01 16:00:00-04:00 INFO : EFA : QTY = 227, COST BASIS 66.33, CASH =   50.38, POSITIONS VALUE = 15086.19, TOTAL = 15136.57\n2015-06-26 16:00:00-04:00 INFO : ----------------------------------------------------------------------------"
     ]
    },
    {
     "name": "stdout",
     "output_type": "stream",
     "text": [
      "\n2015-06-26 16:00:00-04:00 DEBUG : 2015-06-26 20:00:00+00:00\n2015-06-26 16:00:00-04:00 DEBUG : REGIME : 0 \n\n2015-06-26 16:00:00-04:00 INFO : REGIME CHANGE - NEW REGIME = 0\n2015-06-26 16:00:00-04:00 DEBUG : ALLOCATIONS FOR rs_p1 : [('MDY', 1.0)]\n\n2015-06-26 16:00:00-04:00 DEBUG : AFTER DOWNSIDE PROTECTION rs_p1 : [('MDY', 1.0)]\n\n2015-06-26 16:00:00-04:00 WARNING : TARGET_RISK 0.01 > EFFICIENT FRONTIER MAXIMUM 0.008988016814827842; SETTING IT TO MAXIMUM"
     ]
    },
    {
     "name": "stdout",
     "output_type": "stream",
     "text": [
      "\n2015-06-26 16:00:00-04:00 DEBUG : ALLOCATIONS FOR rs_p2 : [('TLT', 1.0), ('IEF', 0.0)]\n\n2015-06-26 16:00:00-04:00 DEBUG : AFTER DOWNSIDE PROTECTION rs_p2 : [('SHY', 1.0)]\n\n2015-06-26 16:00:00-04:00 DEBUG : STRATEGY WEIGHTS = [1.0, 0]\n\n2015-06-26 16:00:00-04:00 DEBUG : ORDERING MDY : 50.0%  QTY = 26\n2015-06-26 16:00:00-04:00 DEBUG : ORDERING SHY : 50.0%  QTY = 88\n2015-07-01 16:00:00-04:00 INFO : \nPOSITIONS\n"
     ]
    },
    {
     "name": "stdout",
     "output_type": "stream",
     "text": [
      "\n2015-07-01 16:00:00-04:00 INFO : SHY : QTY = 88, COST BASIS 84.97, CASH =  -71.24, POSITIONS VALUE = 7458.00, TOTAL = 14517.75\n2015-07-01 16:00:00-04:00 INFO : MDY : QTY = 26, COST BASIS 273.01, CASH =  -71.24, POSITIONS VALUE = 7130.99, TOTAL = 14517.75\n2015-07-29 16:00:00-04:00 INFO : ----------------------------------------------------------------------------"
     ]
    },
    {
     "name": "stdout",
     "output_type": "stream",
     "text": [
      "\n2015-07-29 16:00:00-04:00 DEBUG : 2015-07-29 20:00:00+00:00\n2015-07-29 16:00:00-04:00 DEBUG : REGIME : 0 \n\n2015-07-29 16:00:00-04:00 INFO : REGIME UNCHANGED. JUST REBALANCE\n\n2015-07-29 16:00:00-04:00 DEBUG : ALLOCATIONS FOR rs_p1 : [('MDY', 1.0)]\n\n2015-07-29 16:00:00-04:00 DEBUG : AFTER DOWNSIDE PROTECTION rs_p1 : [('TLT', 1.0)]\n\n2015-07-29 16:00:00-04:00 WARNING : TARGET_RISK 0.01 > EFFICIENT FRONTIER MAXIMUM 0.009320128986146143; SETTING IT TO MAXIMUM"
     ]
    },
    {
     "name": "stdout",
     "output_type": "stream",
     "text": [
      "\n2015-07-29 16:00:00-04:00 DEBUG : ALLOCATIONS FOR rs_p2 : [('TLT', 1.0), ('IEF', 0.0)]\n\n2015-07-29 16:00:00-04:00 DEBUG : AFTER DOWNSIDE PROTECTION rs_p2 : [('TLT', 1.0), ('SHY', 0.0)]\n\n2015-07-29 16:00:00-04:00 DEBUG : STRATEGY WEIGHTS = [1.0, 0]\n\n2015-07-29 16:00:00-04:00 DEBUG : ORDERING TLT : 99.999999991571%  QTY = 119\n2015-07-29 16:00:00-04:00 DEBUG : ORDERING SHY : 8.428985287523005e-09%  QTY = 0\n2015-08-03 16:00:00-04:00 INFO : \nPOSITIONS\n"
     ]
    },
    {
     "name": "stdout",
     "output_type": "stream",
     "text": [
      "\n2015-08-03 16:00:00-04:00 INFO : TLT : QTY = 119, COST BASIS 121.71, CASH =  -16.15, POSITIONS VALUE = 14702.45, TOTAL = 14686.30\n2015-08-27 16:00:00-04:00 INFO : ----------------------------------------------------------------------------"
     ]
    },
    {
     "name": "stdout",
     "output_type": "stream",
     "text": [
      "\n2015-08-27 16:00:00-04:00 DEBUG : 2015-08-27 20:00:00+00:00\n2015-08-27 16:00:00-04:00 DEBUG : REGIME : 0 \n\n2015-08-27 16:00:00-04:00 INFO : REGIME UNCHANGED. JUST REBALANCE\n\n2015-08-27 16:00:00-04:00 DEBUG : ALLOCATIONS FOR rs_p1 : [('MDY', 1.0)]\n\n2015-08-27 16:00:00-04:00 DEBUG : AFTER DOWNSIDE PROTECTION rs_p1 : [('TLT', 1.0)]\n\n2015-08-27 16:00:00-04:00 WARNING : TARGET_RISK 0.01 > EFFICIENT FRONTIER MAXIMUM 0.009582761288536995; SETTING IT TO MAXIMUM"
     ]
    },
    {
     "name": "stdout",
     "output_type": "stream",
     "text": [
      "\n2015-08-27 16:00:00-04:00 DEBUG : ALLOCATIONS FOR rs_p2 : [('TLT', 1.0), ('IEF', 0.0)]\n\n2015-08-27 16:00:00-04:00 DEBUG : AFTER DOWNSIDE PROTECTION rs_p2 : [('TLT', 1.0), ('IEF', 0.0)]\n\n2015-08-27 16:00:00-04:00 DEBUG : STRATEGY WEIGHTS = [1.0, 0]\n\n2015-08-27 16:00:00-04:00 DEBUG : ORDERING IEF : 5.19155209112939e-08%  QTY = 0\n2015-08-27 16:00:00-04:00 DEBUG : ORDERING AGG : -2.3879203206175502e-08%  QTY = 0\n2015-09-01 16:00:00-04:00 INFO : \nPOSITIONS\n"
     ]
    },
    {
     "name": "stdout",
     "output_type": "stream",
     "text": [
      "\n2015-09-01 16:00:00-04:00 INFO : TLT : QTY = 119, COST BASIS 121.71, CASH =  -16.15, POSITIONS VALUE = 14521.45, TOTAL = 14505.30\n2015-09-28 16:00:00-04:00 INFO : ----------------------------------------------------------------------------"
     ]
    },
    {
     "name": "stdout",
     "output_type": "stream",
     "text": [
      "\n2015-09-28 16:00:00-04:00 DEBUG : 2015-09-28 20:00:00+00:00\n2015-09-28 16:00:00-04:00 DEBUG : REGIME : -1 \n\n2015-09-28 16:00:00-04:00 INFO : REGIME CHANGE - NEW REGIME = -1\n2015-09-28 16:00:00-04:00 DEBUG : ALLOCATIONS FOR eaa_p1 : [('TLT', 0.53000000000000003), ('IEF', 0.46999999999999997)]\n\n2015-09-28 16:00:00-04:00 INFO : DOWNSIDE PROTECTION FACTOR = 0.7142857142857143\n2015-09-28 16:00:00-04:00 DEBUG : AFTER DOWNSIDE PROTECTION eaa_p1 : [('TLT', 0.87), ('IEF', 0.13)]\n\n2015-09-28 16:00:00-04:00 DEBUG : STRATEGY WEIGHTS = [0, 1.0]\n\n2015-09-28 16:00:00-04:00 DEBUG : ORDERING IEF : 13.460205390580615%  QTY = 18\n2015-09-28 16:00:00-04:00 DEBUG : ORDERING TLT : 86.53979460941939%  QTY = 102\n2015-10-01 16:00:00-04:00 INFO : \nPOSITIONS\n"
     ]
    },
    {
     "name": "stdout",
     "output_type": "stream",
     "text": [
      "\n2015-10-01 16:00:00-04:00 INFO : TLT : QTY = 103, COST BASIS 121.81, CASH =    6.09, POSITIONS VALUE = 12752.33, TOTAL = 14698.64\n2015-10-01 16:00:00-04:00 INFO : IEF : QTY = 18, COST BASIS 108.40, CASH =    6.09, POSITIONS VALUE = 1940.22, TOTAL = 14698.64\n2015-10-28 16:00:00-04:00 INFO : ----------------------------------------------------------------------------"
     ]
    },
    {
     "name": "stdout",
     "output_type": "stream",
     "text": [
      "\n2015-10-28 16:00:00-04:00 DEBUG : 2015-10-28 20:00:00+00:00\n2015-10-28 16:00:00-04:00 DEBUG : REGIME : -1 \n\n2015-10-28 16:00:00-04:00 INFO : REGIME UNCHANGED. JUST REBALANCE\n\n2015-10-28 16:00:00-04:00 DEBUG : ALLOCATIONS FOR eaa_p1 : [('TLT', 0.34000000000000002), ('IEF', 0.29999999999999999), ('QQQ', 0.35999999999999999)]\n\n2015-10-28 16:00:00-04:00 INFO : DOWNSIDE PROTECTION FACTOR = 0.2857142857142857\n2015-10-28 16:00:00-04:00 DEBUG : AFTER DOWNSIDE PROTECTION eaa_p1 : [('TLT', 0.53000000000000003), ('IEF', 0.20999999999999999), ('QQQ', 0.26000000000000001)]\n\n2015-10-28 16:00:00-04:00 DEBUG : STRATEGY WEIGHTS = [0, 1.0]\n\n2015-10-28 16:00:00-04:00 DEBUG : ORDERING IEF : 21.281127522995206%  QTY = 29\n2015-10-28 16:00:00-04:00 DEBUG : ORDERING QQQ : 25.798810113659965%  QTY = 33\n2015-10-28 16:00:00-04:00 DEBUG : ORDERING TLT : 52.92006236334483%  QTY = 62\n2015-11-02 16:00:00-05:00 INFO : \nPOSITIONS\n"
     ]
    },
    {
     "name": "stdout",
     "output_type": "stream",
     "text": [
      "\n2015-11-02 16:00:00-05:00 INFO : TLT : QTY = 63, COST BASIS 121.97, CASH =  -81.10, POSITIONS VALUE = 7682.79, TOTAL = 14473.77\n2015-11-02 16:00:00-05:00 INFO : IEF : QTY = 29, COST BASIS 108.14, CASH =  -81.10, POSITIONS VALUE = 3089.95, TOTAL = 14473.77\n2015-11-02 16:00:00-05:00 INFO : QQQ : QTY = 33, COST BASIS 114.14, CASH =  -81.10, POSITIONS VALUE = 3782.13, TOTAL = 14473.77\n2015-11-25 16:00:00-05:00 INFO : ----------------------------------------------------------------------------"
     ]
    },
    {
     "name": "stdout",
     "output_type": "stream",
     "text": [
      "\n2015-11-25 16:00:00-05:00 DEBUG : 2015-11-25 21:00:00+00:00\n2015-11-25 16:00:00-05:00 DEBUG : REGIME : 0 \n\n2015-11-25 16:00:00-05:00 INFO : REGIME CHANGE - NEW REGIME = 0\n2015-11-25 16:00:00-05:00 DEBUG : ALLOCATIONS FOR rs_p1 : [('MDY', 1.0)]\n\n2015-11-25 16:00:00-05:00 DEBUG : AFTER DOWNSIDE PROTECTION rs_p1 : [('MDY', 1.0)]\n\n2015-11-25 16:00:00-05:00 WARNING : TARGET_RISK 0.01 > EFFICIENT FRONTIER MAXIMUM 0.004176132820022137; SETTING IT TO MAXIMUM"
     ]
    },
    {
     "name": "stdout",
     "output_type": "stream",
     "text": [
      "\n2015-11-25 16:00:00-05:00 DEBUG : ALLOCATIONS FOR rs_p2 : [('AGG', 0.0), ('IEF', 1.0)]\n\n2015-11-25 16:00:00-05:00 DEBUG : AFTER DOWNSIDE PROTECTION rs_p2 : [('SHY', 1.0)]\n\n2015-11-25 16:00:00-05:00 DEBUG : STRATEGY WEIGHTS = [1.0, 0]\n\n2015-11-25 16:00:00-05:00 DEBUG : ORDERING MDY : 50.0%  QTY = 26\n2015-11-25 16:00:00-05:00 DEBUG : ORDERING SHY : 50.0%  QTY = 85\n2015-12-01 16:00:00-05:00 INFO : \nPOSITIONS\n"
     ]
    },
    {
     "name": "stdout",
     "output_type": "stream",
     "text": [
      "\n2015-12-01 16:00:00-05:00 INFO : SHY : QTY = 85, COST BASIS 84.72, CASH =  195.54, POSITIONS VALUE = 7189.30, TOTAL = 14365.55\n2015-12-01 16:00:00-05:00 INFO : MDY : QTY = 26, COST BASIS 268.08, CASH =  195.54, POSITIONS VALUE = 6980.71, TOTAL = 14365.55\n2015-12-29 16:00:00-05:00 INFO : ----------------------------------------------------------------------------"
     ]
    },
    {
     "name": "stdout",
     "output_type": "stream",
     "text": [
      "\n2015-12-29 16:00:00-05:00 DEBUG : 2015-12-29 21:00:00+00:00\n2015-12-29 16:00:00-05:00 DEBUG : REGIME : 1 \n\n2015-12-29 16:00:00-05:00 INFO : REGIME CHANGE - NEW REGIME = 1\n2015-12-29 16:00:00-05:00 DEBUG : ALLOCATIONS FOR rs_p1 : [('MDY', 1.0)]\n\n2015-12-29 16:00:00-05:00 DEBUG : AFTER DOWNSIDE PROTECTION rs_p1 : [('TLT', 1.0)]\n\n2015-12-29 16:00:00-05:00 DEBUG : STRATEGY WEIGHTS = [1.0, 0]\n\n2015-12-29 16:00:00-05:00 DEBUG : ORDERING TLT : 100.0%  QTY = 117\n2016-01-04 16:00:00-05:00 INFO : \nPOSITIONS\n"
     ]
    },
    {
     "name": "stdout",
     "output_type": "stream",
     "text": [
      "\n2016-01-04 16:00:00-05:00 INFO : TLT : QTY = 117, COST BASIS 120.13, CASH =  -30.16, POSITIONS VALUE = 14209.53, TOTAL = 14179.37\n2016-01-27 16:00:00-05:00 INFO : ----------------------------------------------------------------------------"
     ]
    },
    {
     "name": "stdout",
     "output_type": "stream",
     "text": [
      "\n2016-01-27 16:00:00-05:00 DEBUG : 2016-01-27 21:00:00+00:00\n2016-01-27 16:00:00-05:00 DEBUG : REGIME : 0 \n\n2016-01-27 16:00:00-05:00 INFO : REGIME CHANGE - NEW REGIME = 0\n2016-01-27 16:00:00-05:00 DEBUG : ALLOCATIONS FOR rs_p1 : [('EFA', 1.0)]\n\n2016-01-27 16:00:00-05:00 DEBUG : AFTER DOWNSIDE PROTECTION rs_p1 : [('TLT', 1.0)]\n\n2016-01-27 16:00:00-05:00 WARNING : TARGET_RISK 0.01 > EFFICIENT FRONTIER MAXIMUM 0.004032877221002179; SETTING IT TO MAXIMUM"
     ]
    },
    {
     "name": "stdout",
     "output_type": "stream",
     "text": [
      "\n2016-01-27 16:00:00-05:00 DEBUG : ALLOCATIONS FOR rs_p2 : [('TLT', 0.0), ('IEF', 1.0)]\n\n2016-01-27 16:00:00-05:00 DEBUG : AFTER DOWNSIDE PROTECTION rs_p2 : [('TLT', 0.0), ('IEF', 1.0)]\n\n2016-01-27 16:00:00-05:00 DEBUG : STRATEGY WEIGHTS = [1.0, 0]\n\n2016-01-27 16:00:00-05:00 DEBUG : ORDERING IEF : 50.00000000448479%  QTY = 67\n2016-01-27 16:00:00-05:00 DEBUG : ORDERING TLT : 50.00000000071928%  QTY = 58\n2016-01-27 16:00:00-05:00 DEBUG : ORDERING AGG : -5.2040694251435514e-09%  QTY = 0\n2016-02-01 16:00:00-05:00 INFO : \nPOSITIONS\n"
     ]
    },
    {
     "name": "stdout",
     "output_type": "stream",
     "text": [
      "\n2016-02-01 16:00:00-05:00 INFO : TLT : QTY = 59, COST BASIS 120.29, CASH =   -0.27, POSITIONS VALUE = 7473.47, TOTAL = 14756.04\n2016-02-01 16:00:00-05:00 INFO : IEF : QTY = 67, COST BASIS 108.68, CASH =   -0.27, POSITIONS VALUE = 7282.83, TOTAL = 14756.04\n2016-02-25 16:00:00-05:00 INFO : ----------------------------------------------------------------------------"
     ]
    },
    {
     "name": "stdout",
     "output_type": "stream",
     "text": [
      "\n2016-02-25 16:00:00-05:00 DEBUG : 2016-02-25 21:00:00+00:00\n2016-02-25 16:00:00-05:00 DEBUG : REGIME : -1 \n\n2016-02-25 16:00:00-05:00 INFO : REGIME CHANGE - NEW REGIME = -1\n2016-02-25 16:00:00-05:00 DEBUG : ALLOCATIONS FOR eaa_p1 : [('TLT', 0.56000000000000005), ('IEF', 0.44)]\n\n2016-02-25 16:00:00-05:00 INFO : DOWNSIDE PROTECTION FACTOR = 0.7142857142857143\n2016-02-25 16:00:00-05:00 DEBUG : AFTER DOWNSIDE PROTECTION eaa_p1 : [('TLT', 0.87), ('IEF', 0.13)]\n\n2016-02-25 16:00:00-05:00 DEBUG : STRATEGY WEIGHTS = [0, 1.0]\n\n2016-02-25 16:00:00-05:00 DEBUG : ORDERING IEF : 12.578475550632712%  QTY = 17\n2016-02-25 16:00:00-05:00 DEBUG : ORDERING TLT : 87.4215244493673%  QTY = 100\n2016-03-01 16:00:00-05:00 INFO : \nPOSITIONS\n"
     ]
    },
    {
     "name": "stdout",
     "output_type": "stream",
     "text": [
      "\n2016-03-01 16:00:00-05:00 INFO : TLT : QTY = 100, COST BASIS 124.54, CASH =   41.98, POSITIONS VALUE = 12842.90, TOTAL = 14856.78\n2016-03-01 16:00:00-05:00 INFO : IEF : QTY = 18, COST BASIS 109.23, CASH =   41.98, POSITIONS VALUE = 1971.90, TOTAL = 14856.78\n2016-03-29 16:00:00-04:00 INFO : ----------------------------------------------------------------------------"
     ]
    },
    {
     "name": "stdout",
     "output_type": "stream",
     "text": [
      "\n2016-03-29 16:00:00-04:00 DEBUG : 2016-03-29 20:00:00+00:00\n2016-03-29 16:00:00-04:00 DEBUG : REGIME : -1 \n\n2016-03-29 16:00:00-04:00 INFO : REGIME UNCHANGED. JUST REBALANCE\n\n2016-03-29 16:00:00-04:00 DEBUG : ALLOCATIONS FOR eaa_p1 : [('TLT', 0.47999999999999998), ('IEF', 0.35999999999999999), ('QQQ', 0.16)]\n\n2016-03-29 16:00:00-04:00 INFO : DOWNSIDE PROTECTION FACTOR = 0.2857142857142857\n2016-03-29 16:00:00-04:00 DEBUG : AFTER DOWNSIDE PROTECTION eaa_p1 : [('TLT', 0.63), ('IEF', 0.26000000000000001), ('QQQ', 0.11)]\n\n2016-03-29 16:00:00-04:00 DEBUG : STRATEGY WEIGHTS = [0, 1.0]\n\n2016-03-29 16:00:00-04:00 DEBUG : ORDERING IEF : 25.56084121930041%  QTY = 35\n2016-03-29 16:00:00-04:00 DEBUG : ORDERING QQQ : 11.41973181133209%  QTY = 15\n2016-03-29 16:00:00-04:00 DEBUG : ORDERING TLT : 63.01942696936751%  QTY = 72\n2016-04-01 16:00:00-04:00 INFO : \nPOSITIONS\n"
     ]
    },
    {
     "name": "stdout",
     "output_type": "stream",
     "text": [
      "\n2016-04-01 16:00:00-04:00 INFO : TLT : QTY = 73, COST BASIS 124.68, CASH =    4.23, POSITIONS VALUE = 9539.57, TOTAL = 15054.07\n2016-04-01 16:00:00-04:00 INFO : IEF : QTY = 35, COST BASIS 109.86, CASH =    4.23, POSITIONS VALUE = 3854.86, TOTAL = 15054.07\n2016-04-01 16:00:00-04:00 INFO : QQQ : QTY = 15, COST BASIS 110.03, CASH =    4.23, POSITIONS VALUE = 1655.40, TOTAL = 15054.07\n2016-04-27 16:00:00-04:00 INFO : ----------------------------------------------------------------------------"
     ]
    },
    {
     "name": "stdout",
     "output_type": "stream",
     "text": [
      "\n2016-04-27 16:00:00-04:00 DEBUG : 2016-04-27 20:00:00+00:00\n2016-04-27 16:00:00-04:00 DEBUG : REGIME : 0 \n\n2016-04-27 16:00:00-04:00 INFO : REGIME CHANGE - NEW REGIME = 0\n2016-04-27 16:00:00-04:00 DEBUG : ALLOCATIONS FOR rs_p1 : [('MDY', 1.0)]\n\n2016-04-27 16:00:00-04:00 DEBUG : AFTER DOWNSIDE PROTECTION rs_p1 : [('MDY', 1.0)]\n\n2016-04-27 16:00:00-04:00 WARNING : TARGET_RISK 0.01 > EFFICIENT FRONTIER MAXIMUM 0.009126079661091583; SETTING IT TO MAXIMUM"
     ]
    },
    {
     "name": "stdout",
     "output_type": "stream",
     "text": [
      "\n2016-04-27 16:00:00-04:00 DEBUG : ALLOCATIONS FOR rs_p2 : [('TLT', 1.0), ('IEF', 0.0)]\n\n2016-04-27 16:00:00-04:00 DEBUG : AFTER DOWNSIDE PROTECTION rs_p2 : [('SHY', 1.0)]\n\n2016-04-27 16:00:00-04:00 DEBUG : STRATEGY WEIGHTS = [1.0, 0]\n\n2016-04-27 16:00:00-04:00 DEBUG : ORDERING AGG : -2.2898739724587325e-08%  QTY = 0\n2016-04-27 16:00:00-04:00 DEBUG : ORDERING MDY : 50.0%  QTY = 27\n2016-04-27 16:00:00-04:00 DEBUG : ORDERING SHY : 50.00000002289874%  QTY = 87\n2016-05-02 16:00:00-04:00 INFO : \nPOSITIONS\n"
     ]
    },
    {
     "name": "stdout",
     "output_type": "stream",
     "text": [
      "\n2016-05-02 16:00:00-04:00 INFO : SHY : QTY = 87, COST BASIS 85.09, CASH =  208.76, POSITIONS VALUE = 7388.91, TOTAL = 14841.74\n2016-05-02 16:00:00-04:00 INFO : MDY : QTY = 27, COST BASIS 267.72, CASH =  208.76, POSITIONS VALUE = 7244.07, TOTAL = 14841.74\n2016-05-26 16:00:00-04:00 INFO : ----------------------------------------------------------------------------"
     ]
    },
    {
     "name": "stdout",
     "output_type": "stream",
     "text": [
      "\n2016-05-26 16:00:00-04:00 DEBUG : 2016-05-26 20:00:00+00:00\n2016-05-26 16:00:00-04:00 DEBUG : REGIME : 1 \n\n2016-05-26 16:00:00-04:00 INFO : REGIME CHANGE - NEW REGIME = 1\n2016-05-26 16:00:00-04:00 DEBUG : ALLOCATIONS FOR rs_p1 : [('MDY', 1.0)]\n\n2016-05-26 16:00:00-04:00 DEBUG : AFTER DOWNSIDE PROTECTION rs_p1 : [('MDY', 1.0)]\n\n2016-05-26 16:00:00-04:00 DEBUG : STRATEGY WEIGHTS = [1.0, 0]\n\n2016-05-26 16:00:00-04:00 DEBUG : ORDERING MDY : 100.0%  QTY = 55\n2016-06-01 16:00:00-04:00 INFO : \nPOSITIONS\n"
     ]
    },
    {
     "name": "stdout",
     "output_type": "stream",
     "text": [
      "\n2016-06-01 16:00:00-04:00 INFO : MDY : QTY = 55, COST BASIS 270.07, CASH =  -47.34, POSITIONS VALUE = 15019.90, TOTAL = 14972.55\n2016-06-28 16:00:00-04:00 INFO : ----------------------------------------------------------------------------"
     ]
    },
    {
     "name": "stdout",
     "output_type": "stream",
     "text": [
      "\n2016-06-28 16:00:00-04:00 DEBUG : 2016-06-28 20:00:00+00:00\n2016-06-28 16:00:00-04:00 DEBUG : REGIME : 1 \n\n2016-06-28 16:00:00-04:00 INFO : REGIME UNCHANGED. JUST REBALANCE\n\n2016-06-28 16:00:00-04:00 DEBUG : ALLOCATIONS FOR rs_p1 : [('MDY', 1.0)]\n\n2016-06-28 16:00:00-04:00 DEBUG : AFTER DOWNSIDE PROTECTION rs_p1 : [('TLT', 1.0)]\n\n2016-06-28 16:00:00-04:00 DEBUG : STRATEGY WEIGHTS = [1.0, 0]\n\n2016-06-28 16:00:00-04:00 DEBUG : ORDERING TLT : 100.0%  QTY = 103\n2016-07-01 16:00:00-04:00 INFO : \nPOSITIONS\n"
     ]
    },
    {
     "name": "stdout",
     "output_type": "stream",
     "text": [
      "\n2016-07-01 16:00:00-04:00 INFO : TLT : QTY = 103, COST BASIS 138.49, CASH =  388.34, POSITIONS VALUE = 14478.71, TOTAL = 14867.05\n2016-07-27 16:00:00-04:00 INFO : ----------------------------------------------------------------------------"
     ]
    },
    {
     "name": "stdout",
     "output_type": "stream",
     "text": [
      "\n2016-07-27 16:00:00-04:00 DEBUG : 2016-07-27 20:00:00+00:00\n2016-07-27 16:00:00-04:00 DEBUG : REGIME : 1 \n\n2016-07-27 16:00:00-04:00 INFO : REGIME UNCHANGED. JUST REBALANCE\n\n2016-07-27 16:00:00-04:00 DEBUG : ALLOCATIONS FOR rs_p1 : [('MDY', 1.0)]\n\n2016-07-27 16:00:00-04:00 DEBUG : AFTER DOWNSIDE PROTECTION rs_p1 : [('MDY', 1.0)]\n\n2016-07-27 16:00:00-04:00 DEBUG : STRATEGY WEIGHTS = [1.0, 0]\n\n2016-07-27 16:00:00-04:00 DEBUG : ORDERING MDY : 100.0%  QTY = 52\n2016-08-01 16:00:00-04:00 INFO : \nPOSITIONS\n"
     ]
    },
    {
     "name": "stdout",
     "output_type": "stream",
     "text": [
      "\n2016-08-01 16:00:00-04:00 INFO : MDY : QTY = 52, COST BASIS 283.00, CASH =  122.34, POSITIONS VALUE = 14716.99, TOTAL = 14839.33\n2016-08-29 16:00:00-04:00 INFO : ----------------------------------------------------------------------------"
     ]
    },
    {
     "name": "stdout",
     "output_type": "stream",
     "text": [
      "\n2016-08-29 16:00:00-04:00 DEBUG : 2016-08-29 20:00:00+00:00\n2016-08-29 16:00:00-04:00 DEBUG : REGIME : 1 \n\n2016-08-29 16:00:00-04:00 INFO : REGIME UNCHANGED. JUST REBALANCE\n\n2016-08-29 16:00:00-04:00 DEBUG : ALLOCATIONS FOR rs_p1 : [('MDY', 1.0)]\n\n2016-08-29 16:00:00-04:00 DEBUG : AFTER DOWNSIDE PROTECTION rs_p1 : [('MDY', 1.0)]\n\n2016-08-29 16:00:00-04:00 DEBUG : STRATEGY WEIGHTS = [1.0, 0]\n\n2016-09-01 16:00:00-04:00 INFO : \nPOSITIONS\n"
     ]
    },
    {
     "name": "stdout",
     "output_type": "stream",
     "text": [
      "\n2016-09-01 16:00:00-04:00 INFO : MDY : QTY = 52, COST BASIS 283.00, CASH =  122.34, POSITIONS VALUE = 14817.40, TOTAL = 14939.74\n2016-09-28 16:00:00-04:00 INFO : ----------------------------------------------------------------------------"
     ]
    },
    {
     "name": "stdout",
     "output_type": "stream",
     "text": [
      "\n2016-09-28 16:00:00-04:00 DEBUG : 2016-09-28 20:00:00+00:00\n2016-09-28 16:00:00-04:00 DEBUG : REGIME : 1 \n\n2016-09-28 16:00:00-04:00 INFO : REGIME UNCHANGED. JUST REBALANCE\n\n2016-09-28 16:00:00-04:00 DEBUG : ALLOCATIONS FOR rs_p1 : [('EFA', 1.0)]\n\n2016-09-28 16:00:00-04:00 DEBUG : AFTER DOWNSIDE PROTECTION rs_p1 : [('EFA', 1.0)]\n\n2016-09-28 16:00:00-04:00 DEBUG : STRATEGY WEIGHTS = [1.0, 0]\n\n2016-09-28 16:00:00-04:00 DEBUG : ORDERING EFA : 100.0%  QTY = 249\n2016-10-03 16:00:00-04:00 INFO : \nPOSITIONS\n"
     ]
    },
    {
     "name": "stdout",
     "output_type": "stream",
     "text": [
      "\n2016-10-03 16:00:00-04:00 INFO : EFA : QTY = 249, COST BASIS 58.71, CASH =   45.39, POSITIONS VALUE = 14683.53, TOTAL = 14728.92\n2016-10-27 16:00:00-04:00 INFO : ----------------------------------------------------------------------------"
     ]
    },
    {
     "name": "stdout",
     "output_type": "stream",
     "text": [
      "\n2016-10-27 16:00:00-04:00 DEBUG : 2016-10-27 20:00:00+00:00\n2016-10-27 16:00:00-04:00 DEBUG : REGIME : 0 \n\n2016-10-27 16:00:00-04:00 INFO : REGIME CHANGE - NEW REGIME = 0\n2016-10-27 16:00:00-04:00 DEBUG : ALLOCATIONS FOR rs_p1 : [('EFA', 1.0)]\n\n2016-10-27 16:00:00-04:00 DEBUG : AFTER DOWNSIDE PROTECTION rs_p1 : [('TLT', 1)]\n\n2016-10-27 16:00:00-04:00 WARNING : TARGET_RISK 0.01 > EFFICIENT FRONTIER MAXIMUM 0.007807075468329409; SETTING IT TO MAXIMUM"
     ]
    },
    {
     "name": "stdout",
     "output_type": "stream",
     "text": [
      "\n2016-10-27 16:00:00-04:00 DEBUG : ALLOCATIONS FOR rs_p2 : [('TLT', 1.0), ('IEF', 0.0)]\n\n2016-10-27 16:00:00-04:00 DEBUG : AFTER DOWNSIDE PROTECTION rs_p2 : [('SHY', 1)]\n\n2016-10-27 16:00:00-04:00 DEBUG : STRATEGY WEIGHTS = [1.0, 0]\n\n2016-10-27 16:00:00-04:00 DEBUG : ORDERING TLT : 50.0%  QTY = 55\n2016-10-27 16:00:00-04:00 DEBUG : ORDERING SHY : 50.0%  QTY = 85\n2016-11-01 16:00:00-04:00 INFO : \nPOSITIONS\n"
     ]
    },
    {
     "name": "stdout",
     "output_type": "stream",
     "text": [
      "\n2016-11-01 16:00:00-04:00 INFO : SHY : QTY = 85, COST BASIS 85.01, CASH =   14.84, POSITIONS VALUE = 7216.50, TOTAL = 14436.83\n2016-11-01 16:00:00-04:00 INFO : TLT : QTY = 55, COST BASIS 130.63, CASH =   14.84, POSITIONS VALUE = 7205.50, TOTAL = 14436.83\n"
     ]
    }
   ],
   "source": [
    "import datetime as dt\n",
    "import pytz\n",
    "\n",
    "from zipline import TradingAlgorithm, run_algorithm\n",
    "from zipline.api import get_open_orders, schedule_function\n",
    "from zipline.api import set_commission, symbol, symbols\n",
    "from zipline.api import date_rules, time_rules, commission\n",
    "\n",
    "from Quantopian.algorithm import Algo, AllocationModel, Regime\n",
    "from Quantopian.Configurator import StrategyParameters, Configurator\n",
    "from Quantopian.Transform import Transform\n",
    "from Quantopian.Rule import Rule\n",
    "\n",
    "from talib import BBANDS, DEMA, EMA, HT_TRENDLINE, KAMA, MA, MAMA, MAVP, MIDPOINT, MIDPRICE, SAR, \\\n",
    "    SAREXT, SMA, T3, TEMA, TRIMA, WMA, ADD, DIV, MAX, MAXINDEX, MIN, MININDEX, MINMAX, \\\n",
    "    MINMAXINDEX, MULT, SUB, SUM, BETA, CORREL, LINEARREG, LINEARREG_ANGLE, \\\n",
    "    LINEARREG_INTERCEPT, LINEARREG_SLOPE, STDDEV, TSF, VAR, ADX, ADXR, APO, AROON, \\\n",
    "    AROONOSC, BOP, CCI, CMO, DX, MACD, MACDEXT, MACDFIX, MFI, MINUS_DI, MINUS_DM, MOM, \\\n",
    "    PLUS_DI, PLUS_DM, PPO, ROC, ROCP, ROCR, ROCR100, RSI, STOCH, STOCHF, STOCHRSI, \\\n",
    "    TRIX, ULTOSC, WILLR, ATR, NATR, TRANGE, ACOS, ASIN, ATAN, CEIL, COS, COSH, EXP, \\\n",
    "    FLOOR, LN, LOG10, SIN, SINH, SQRT, TAN, TANH, AD, ADOSC, OBV, AVGPRICE, MEDPRICE, \\\n",
    "    TYPPRICE, WCLPRICE, HT_DCPERIOD, HT_DCPHASE, HT_PHASOR, HT_SINE, HT_TRENDMODE\n",
    "\n",
    "def define_transforms(context):  # Define transforms\n",
    "    # select transforms required and make sure correct parameters are used\n",
    "    context.transforms = [\n",
    "        # Transform(context, name='momentum', function=Transform.n_period_momentum, inputs=['price'],\n",
    "        #           kwargs={'no_of_periods':3, 'period':'M'}, outputs=['R']),\n",
    "        Transform(context, name='mom_A', function=ROCP, inputs=['price'], kwargs={'lookback': 43}, outputs=['mom_A']),\n",
    "        Transform(context, name='mom_B', function=ROCP, inputs=['price'], kwargs={'lookback': 21}, outputs=['mom_B']),\n",
    "        Transform(context, name='daily_returns', function=Transform.daily_returns, inputs=['price'], kwargs={},\n",
    "                  outputs=['daily_returns']),\n",
    "        Transform(context, name='vol_C', function=STDDEV, inputs=['daily_returns'], kwargs={'lookback': 20},\n",
    "                  outputs=['vol_C']),\n",
    "        Transform(context, name='slope', function=Transform.slope, inputs=['price'], kwargs={'lookback': 100},\n",
    "                  outputs=['slope']),\n",
    "        # Transform(context, name='TMOM', function=Transform.momentum, inputs=['price'], kwargs={'lookback':43}, outputs=['TMOM']),\n",
    "        # Transform(context, name='MA', function=SMA, inputs=['price'], args=[context.lookback_B], outputs=['MA']),\n",
    "        Transform(context, name='R', function=Transform.average_excess_return_momentum, inputs=['price'],\n",
    "                  kwargs={'lookback': 3}, outputs=['R']),\n",
    "        # Transform(context, name='RMOM', function=Transform.momentum, inputs=['price'], kwargs={'lookback':43}, outputs=['RMOM']),\n",
    "        # Transform(context, name='TMOM', function=Transform.excess_momentum, inputs=['price'],\n",
    "        #           kwargs={'lookback':43}, outputs=['TMOM']),\n",
    "        # Transform(context, name='EMOM', function=Transform.momentum, inputs=['price'], kwargs={'lookback':43},\n",
    "        #           outputs=['EMOM']),\n",
    "        # Transform(context, name='volatility', function=STDDEV, inputs=['daily_returns'], kwargs={'lookback':43},\n",
    "        #           outputs=['volatility']),\n",
    "        Transform(context, name='smma', function=Transform.simple_mean_monthly_average, inputs=['price'],\n",
    "                  kwargs={'lookback': 2}, outputs=['smma']),\n",
    "        # Transform(context, name='mom', function=Transform.paa_momentum, inputs=['price', 'smma'],\n",
    "        #           kwargs={'lookback':2}, outputs=['mom']),\n",
    "        # Transform(context, name='smma_12', function=Transform.simple_mean_monthly_average, inputs=['price'],\n",
    "        #           kwargs={'lookback':12}, outputs=['smma_12'])\n",
    "    ]\n",
    "\n",
    "    return context.transforms\n",
    "\n",
    "\n",
    "# ~~~~~~~~~~~~~~~~~~~~~~~~~~~~~~~~~~~~~~~~~~~~~~~~~~~~~~~~~~~~~~~~~~~~~~~~~~~~~~~~~~~~~~~~~~~~~~~~~~~~~~~~\n",
    "def define_rules(context):  # Define rules\n",
    "    # select rules required and make sure correct transform names are used\n",
    "    context.algo_rules = [\n",
    "        # Rule(context, name='absolute_momentum_rule', rule=\"'price' < 'smma' \"),\n",
    "        # Rule(context, name='dual_momentum_rule', rule=\"'TMOM' < 0\"),\n",
    "        Rule(context, name='smma_rule', rule=\"'price' < 'smma'\"),\n",
    "        # Rule(context, name='complex_rule', rule=\"'price' < smma or 'TMOM' < 0\"),\n",
    "        # Rule(context, name='momentum_rule', rule=\"'price' < 'MA'\"),\n",
    "        Rule(context, name='EAA_rule', rule=\"'R' <= 0\"),\n",
    "        # Rule(context, name='paa_rule', rule=\"'mom' <= 0\"),\n",
    "        # Rule(context, name='paa_filter', rule=\"'mom' > 0\"),\n",
    "        # Rule(context, name='momentum_rule1', rule=\"'price' < 'smma_12'\"),\n",
    "        # Rule(context, name='riskon', rule=\"'price' > 'smma_12'\", apply_to=context.market_proxy),\n",
    "        # Rule(context, name='riskoff', rule=\"'price' <= 'smma_12'\", apply_to=context.market_proxy),\n",
    "        Rule(context, name='neutral', rule=\"'slope' <= 0.1 and 'slope' >= -0.1\",\n",
    "             apply_to=context.market_proxy),\n",
    "        Rule(context, name='bull', rule=\"'slope' > 0.1\", apply_to=context.market_proxy),\n",
    "        Rule(context, name='bear', rule=\"'slope' < -0.1\", apply_to=context.market_proxy)\n",
    "    ]\n",
    "\n",
    "    return context.algo_rules\n",
    "\n",
    "\n",
    "# ~~~~~~~~~~~~~~~~~~~~~~~~~~~~~~~~~~~~~~~~~~~~~~~~~~~~~~~~~~~~~~~~~~~~~~~~~~~~~~~~~~~~~~~~~~~~~~~~~~~~~~~~      ]\n",
    "def initialize(context):\n",
    "    # these must ALWAYS be present!\n",
    "    context.transforms = []\n",
    "    context.algo_rules = []\n",
    "    context.max_lookback = 63\n",
    "    context.outstanding = {}  # orders which span multiple days\n",
    "\n",
    "    context.raw_data = {}\n",
    "\n",
    "    #############################################################\n",
    "    # set the following parameters as required\n",
    "\n",
    "    context.show_positions = True\n",
    "    # select records to show in algo.show_records()\n",
    "    context.show_records = True\n",
    "\n",
    "    # replace cash_proxy with risk_free if cantec.allow_cash_proxY_replacement is True\n",
    "    # and cash_proxy price is <= average cash_proxy price over last context.cash_proxy_lookback days\n",
    "    context.allow_cash_proxy_replacement = False\n",
    "    context.cash_proxy_lookback = 43  # must be <= context.max_lookback\n",
    "\n",
    "    context.update_metrics = False\n",
    "    # to calculate Sharpe ratio\n",
    "    context.calculate_SR = False\n",
    "    context.SR_lookback = 63  # must be <= context.max_lookback\n",
    "    context.SD_factor = 0\n",
    "\n",
    "    # position only changed if percentage change > threshold\n",
    "    context.threshold = 0.01\n",
    "\n",
    "    # the following can be changed\n",
    "    context.market_proxy = symbols('SPY')[0]\n",
    "    context.risk_free = symbols('SHY')[0]\n",
    "\n",
    "    set_commission(commission.PerTrade(cost=10.0))\n",
    "    context.leverage = 1.0\n",
    "    #################################################################\n",
    "    # configure strategies\n",
    "\n",
    "    context.rebalance_interval = 1  # set interval to n = no of periods (default: months)\n",
    "    # if you want to change default period, change schedule reallocate below\n",
    "\n",
    "    # Strategy 1\n",
    "\n",
    "    rs = StrategyParameters(context,\n",
    "                            name='rs',\n",
    "                            portfolios=[symbols('MDY', 'EFA'), symbols('TLT', 'IEF', 'AGG')],\n",
    "                            portfolio_allocation_modes=['EW', 'RISK_TARGET'],\n",
    "                            portfolio_allocation_kwargs=[{}, {'lookback': 252, 'target_risk': 0.01, 'shorts': False}],\n",
    "                            security_weights=[None, None],\n",
    "                            portfolio_allocation_formulas=[None, None],\n",
    "                            scoring_methods=['RS', None],\n",
    "                            scoring_factors=[{'+mom_A': 0.65, '+mom_B': 0.35, '-vol_C': 0.},\n",
    "                                             None],\n",
    "                            n_tops=[1, 1],\n",
    "                            protection_modes=['BY_RULE', 'BY_RULE'],\n",
    "                            protection_rules=['smma_rule', 'smma_rule'],\n",
    "                            protection_formulas=[None, None],\n",
    "                            cash_proxies=[symbol('TLT'), symbol('SHY')],\n",
    "                            strategy_allocation_mode='FIXED',\n",
    "                            portfolio_weights=[0.6, 0.4],\n",
    "                            strategy_allocation_formula=None,\n",
    "                            strategy_allocation_rule=None\n",
    "                            )\n",
    "    # Strategy 2\n",
    "\n",
    "    eaa = StrategyParameters(context,\n",
    "                             name='eaa',\n",
    "                             portfolios=[symbols('EEM', 'IEF', 'IEV', 'MDY', 'QQQ', 'TLT', 'XLV')],\n",
    "                             portfolio_allocation_modes=['PROPORTIONAL'],\n",
    "                             portfolio_allocation_kwargs=[None],\n",
    "                             security_weights=[None],\n",
    "                             portfolio_allocation_formulas=[None],\n",
    "                             scoring_methods=['EAA'],\n",
    "                             #   Golden Offensive EAA: wi ~ zi = (1-ci) * ri^2\n",
    "                             # scoring_factors = [{'R': 2.0, 'C' : 1.0, 'V' : 0.0, 'S' : 1.0, 'eps' : 1e-6}],\n",
    "                             #   Golden Defensive EAA: wi ~ zi = squareroot( ri * (1-ci) )\n",
    "                             scoring_factors=[{'R': 1.0, 'C': 1.0, 'V': 0.0, 'S': 0.5, 'eps': 1e-6}],\n",
    "                             #  Equal Weighted Return: wi ~ zi = ri ^ eps\n",
    "                             # scoring_factors = [{'R': 1.0, 'C' : 1.0, 'V' : 0.0, 'S' : 1.0, 'eps' : 1e-6}],\n",
    "                             # Equal Weighted Hedged: wi ~ zi = ( ri * (1-ci) )^eps\n",
    "                             # scoring_factors = [{'R': 1.0, 'C' : 1.0, 'V' : 0.0, 'S' : 1.0, 'eps' : 1e-6}],\n",
    "                             #  Scoring Function Test:\n",
    "                             # scoring_factors = [{'R': 1.0, 'C' : 1.0, 'V' : 1.0, 'S' : 1.0, 'eps' : 0.0}],\n",
    "                             # scoring_factors = [{'R': 1.0, 'C' : 1.0, 'V' : 1.0, 'S' : 0.0, 'eps' :  1e-6}],\n",
    "                             n_tops=[2],\n",
    "                             protection_modes=['BY_FORMULA'],\n",
    "                             protection_rules=['EAA_rule'],\n",
    "                             protection_formulas=['DPF'],\n",
    "                             cash_proxies=[symbol('TLT')],\n",
    "                             strategy_allocation_mode='FIXED',\n",
    "                             portfolio_weights=[1.],\n",
    "                             strategy_allocation_formula=None,\n",
    "                             strategy_allocation_rule=None\n",
    "                             )\n",
    "\n",
    "    Configurator(context, define_transforms, define_rules, strategies=[rs, eaa])\n",
    "\n",
    "    ############################\n",
    "    # configure algorithm\n",
    "\n",
    "    algo = Algo(context,\n",
    "                strategies=[rs.strategy, eaa.strategy],\n",
    "                allocation_model=AllocationModel(context, mode='REGIME_EW', weights=None, formula=None),\n",
    "                regime=Regime(\n",
    "                    transitions={'0': ('neutral', ['rs']),\n",
    "                                 '1': ('bull', ['rs_p1']),\n",
    "                                 '-1': ('bear', ['eaa'])\n",
    "                                 }\n",
    "                ),\n",
    "                )\n",
    "    ###########################################################################################################\n",
    "    # generate algo data every day at close\n",
    "    schedule_function(algo.update_data, date_rules.every_day(), time_rules.market_close())\n",
    "\n",
    "    # daily functions to handle GTC orders\n",
    "    schedule_function(algo.check_for_unfilled_orders, date_rules.every_day(), time_rules.market_close())\n",
    "    schedule_function(algo.fill_outstanding_orders, date_rules.every_day(), time_rules.market_open())\n",
    "\n",
    "    if context.update_metrics:\n",
    "        # calculate metrics every day\n",
    "        schedule_function(algo.update_metrics, date_rules.every_day(), time_rules.market_close())\n",
    "\n",
    "    if context.show_positions:\n",
    "        schedule_function(algo.show_positions, date_rules.month_start(days_offset=0), time_rules.market_open())\n",
    "\n",
    "    if context.show_records:\n",
    "        # show records every day\n",
    "        # edit the show_records function to include records required\n",
    "        schedule_function(algo.show_records, date_rules.every_day(), time_rules.market_close())\n",
    "\n",
    "    schedule_function(algo.rebalance, date_rules.month_end(days_offset=2), time_rules.market_open())\n",
    "###########################################################################################################\n",
    "#MAIN ROUTINE\n",
    "\n",
    "capital_base = 10000\n",
    "start = dt.datetime(2008, 12, 1, 0, 0, 0, 0, pytz.utc)\n",
    "end = dt.datetime(2016, 11, 1, 0, 0, 0, 0, pytz.utc)\n",
    "\n",
    "result = run_algorithm(start=start, end=end, initialize=initialize, \\\n",
    "                       capital_base=capital_base, \\\n",
    "                       bundle='etf_bundle')\n",
    "\n",
    "result.portfolio_value.plot(figsize=(15,10), grid=True)\n",
    "result.to_pickle('E:\\\\NOTEBOOKS\\\\Quantopian\\\\Strategies\\\\result.pkl')"
   ]
  },
  {
   "cell_type": "code",
   "execution_count": 6,
   "metadata": {},
   "outputs": [
    {
     "name": "stdout",
     "output_type": "stream",
     "text": [
      "Populating the interactive namespace from numpy and matplotlib\n"
     ]
    },
    {
     "data": {
      "text/plain": [
       "<matplotlib.axes._subplots.AxesSubplot at 0x906710>"
      ]
     },
     "execution_count": 6,
     "metadata": {},
     "output_type": "execute_result"
    },
    {
     "data": {
      "image/png": "[encoded data removed]",
      "text/plain": [
       "<matplotlib.figure.Figure at 0x906f28>"
      ]
     },
     "metadata": {},
     "output_type": "display_data"
    }
   ],
   "source": [
    "import seaborn as sns\n",
    "%pylab inline\n",
    "\n",
    "import pandas as pd\n",
    "result = pd.read_pickle('E:\\\\notebooks\\\\quantopian\\\\strategies\\\\result.pkl')\n",
    "\n",
    "result.portfolio_value.plot()"
   ]
  },
  {
   "cell_type": "code",
   "execution_count": null,
   "metadata": {},
   "outputs": [],
   "source": [
    ""
   ]
  }
 ],
 "metadata": {
  "kernelspec": {
   "display_name": "Python 2",
   "language": "python",
   "name": "python2"
  },
  "language_info": {
   "codemirror_mode": {
    "name": "ipython",
    "version": 2.0
   },
   "file_extension": ".py",
   "mimetype": "text/x-python",
   "name": "python",
   "nbconvert_exporter": "python",
   "pygments_lexer": "ipython2",
   "version": "2.7.6"
  }
 },
 "nbformat": 4,
 "nbformat_minor": 0
}